{
  "nbformat": 4,
  "nbformat_minor": 0,
  "metadata": {
    "celltoolbar": "Raw Cell Format",
    "kernelspec": {
      "display_name": "Python 3",
      "language": "python",
      "name": "python3"
    },
    "language_info": {
      "codemirror_mode": {
        "name": "ipython",
        "version": 3
      },
      "file_extension": ".py",
      "mimetype": "text/x-python",
      "name": "python",
      "nbconvert_exporter": "python",
      "pygments_lexer": "ipython3",
      "version": "3.9.5"
    },
    "toc": {
      "base_numbering": 1,
      "nav_menu": {},
      "number_sections": true,
      "sideBar": true,
      "skip_h1_title": true,
      "title_cell": "Table of Contents",
      "title_sidebar": "Contents",
      "toc_cell": false,
      "toc_position": {},
      "toc_section_display": true,
      "toc_window_display": false
    },
    "colab": {
      "name": "fin_project.ipynb",
      "provenance": [],
      "collapsed_sections": []
    }
  },
  "cells": [
    {
      "cell_type": "markdown",
      "metadata": {
        "id": "CtiMs0qkKZJe"
      },
      "source": [
        "__Закономерности, определяющие успешность компьютерной игры__\n",
        "\n",
        "Вы работаете в интернет-магазине «Стримчик», который продаёт по всему миру компьютерные игры. Из открытых источников доступны исторические данные о продажах игр, оценки пользователей и экспертов, жанры и платформы (например, Xbox или PlayStation). Вам нужно выявить определяющие успешность игры закономерности. Это позволит сделать ставку на потенциально популярный продукт и спланировать рекламные кампании.\n",
        "Перед вами данные до 2016 года. Представим, что сейчас декабрь 2016 г., и вы планируете кампанию на 2017-й. Нужно отработать принцип работы с данными.\n",
        "\n",
        "_Name_ — название игры\n",
        "\n",
        "_Platform_ — платформа\n",
        "\n",
        "_Year_of_Release_ — год выпуска\n",
        "\n",
        "_Genre_ — жанр игры\n",
        "\n",
        "_NA_sales_ — продажи в Северной Америке (миллионы долларов)\n",
        "\n",
        "_EU_sales_ — продажи в Европе (миллионы долларов)\n",
        "\n",
        "_JP_sales_ — продажи в Японии (миллионы долларов)\n",
        "\n",
        "_Other_sales_ — продажи в других странах (миллионы долларов)\n",
        "\n",
        "_Critic_Score_ — оценка критиков (от 0 до 100)\n",
        "\n",
        "_User_Score_ — оценка пользователей (от 0 до 10)\n",
        "\n",
        "_Rating_ — рейтинг от организации ESRB (англ. Entertainment Software Rating Board).Эта ассоциация определяет рейтинг компьютерных игр и присваивает им подходящую возрастную категорию.\n",
        "\n",
        "Данные за 2016 год могут быть неполными."
      ]
    },
    {
      "cell_type": "markdown",
      "metadata": {
        "id": "mqX3BEeCKZJj"
      },
      "source": [
        " Читаем таблицу и записываем ее в переменную data."
      ]
    },
    {
      "cell_type": "code",
      "metadata": {
        "id": "KM2IAVtMKZJj",
        "outputId": "436cf3da-5977-4654-ac94-3fbccf42770a"
      },
      "source": [
        "import pandas as pd\n",
        "import seaborn as sns\n",
        "sns.set(color_codes=True)\n",
        "import matplotlib.pyplot as plt\n",
        "import numpy as np\n",
        "import scipy.stats as st\n",
        "from functools import reduce\n",
        "idx = pd.IndexSlice\n",
        "from scipy import stats as st\n",
        "import plotly.graph_objects as go\n",
        "\n",
        "data = pd.read_csv('/datasets/games.csv')\n",
        "data"
      ],
      "execution_count": null,
      "outputs": [
        {
          "data": {},
          "execution_count": 1,
          "metadata": {},
          "output_type": "execute_result"
        }
      ]
    },
    {
      "cell_type": "markdown",
      "metadata": {
        "id": "4XDmq8wCKZJl"
      },
      "source": [
        "Приводим названия столбцов к нижнему регистру, получаем информацию о типе данных."
      ]
    },
    {
      "cell_type": "code",
      "metadata": {
        "id": "y73G2aBsKZJm"
      },
      "source": [
        "data = data.rename(columns={\"Name\": \"name\", \"Platform\": \"platform\", \"Year_of_Release\": \"year_of_release\", \"Genre\": \"genre\", \"NA_sales\": \"na_sales\", \"EU_sales\": \"eu_sales\", \"JP_sales\": \"jp_sales\", \"Other_sales\": \"other_sales\", \"Critic_Score\": \"critic_score\", \"User_Score\": \"user_score\", \"Rating\": \"rating\"})\n",
        "data.info()"
      ],
      "execution_count": null,
      "outputs": []
    },
    {
      "cell_type": "markdown",
      "metadata": {
        "id": "dzx0LQq9KZJn"
      },
      "source": [
        "Меняем user_score на float64 т.к. это исчисляемая величина(более того, critic_score записан в float64). Но перед этим просмотрим уникальные значения user_score, чтобы понять, как действовать с необычными значениями."
      ]
    },
    {
      "cell_type": "code",
      "metadata": {
        "scrolled": true,
        "id": "Hp7SyYLMKZJn",
        "outputId": "b4aadda7-fda2-4bc6-ad53-16bb6b31c8bf"
      },
      "source": [
        "data['user_score'].unique()"
      ],
      "execution_count": null,
      "outputs": [
        {
          "data": {},
          "execution_count": 3,
          "metadata": {},
          "output_type": "execute_result"
        }
      ]
    },
    {
      "cell_type": "code",
      "metadata": {
        "scrolled": false,
        "id": "bvqHBeHmKZJo",
        "outputId": "d471bd8b-7654-41b6-c47a-cc8d512371c0"
      },
      "source": [
        "data[data['user_score'] == 'tbd']"
      ],
      "execution_count": null,
      "outputs": [
        {
          "data": {},
          "execution_count": 4,
          "metadata": {},
          "output_type": "execute_result"
        }
      ]
    },
    {
      "cell_type": "markdown",
      "metadata": {
        "id": "al2pw-RWKZJp"
      },
      "source": [
        "2424 строки имеют значения tbd(подлежит уточнению). Из-за такого количества пропущенных значений мы не можем заполнить их вручную, поэтому вместо них и вместо NaN вставим -1."
      ]
    },
    {
      "cell_type": "code",
      "metadata": {
        "id": "MYp9q06nKZJp"
      },
      "source": [
        "data.loc[(data['user_score'] == 'tbd') | (data['user_score'].isna()), 'user_score'] = -1\n",
        "data.loc[(data['critic_score'].isna()), 'critic_score'] = -1\n",
        "data['user_score'] = pd.to_numeric(data['user_score'])"
      ],
      "execution_count": null,
      "outputs": []
    },
    {
      "cell_type": "markdown",
      "metadata": {
        "id": "Hv7MfYzwKZJq"
      },
      "source": [
        "Суммарные продажи во всех регионах добавим в столбец all_sales"
      ]
    },
    {
      "cell_type": "code",
      "metadata": {
        "id": "D5gr8EMzKZJr"
      },
      "source": [
        "data['all_sales'] = data['na_sales'] + data['eu_sales'] + data['jp_sales'] + data['other_sales']"
      ],
      "execution_count": null,
      "outputs": []
    },
    {
      "cell_type": "markdown",
      "metadata": {
        "id": "BLkYMk_tKZJr"
      },
      "source": [
        "Посмотрим сколько игр выпускалось за каждый код."
      ]
    },
    {
      "cell_type": "code",
      "metadata": {
        "scrolled": true,
        "id": "p7s0qLxpKZJr",
        "outputId": "946017b9-94ed-4017-b03b-b0508be61688"
      },
      "source": [
        "games_by_years = data.groupby('year_of_release')['name'].count()\n",
        "print(games_by_years)\n",
        "games_by_years.plot()"
      ],
      "execution_count": null,
      "outputs": [
        {
          "data": {},
          "execution_count": 7,
          "metadata": {},
          "output_type": "execute_result"
        },
        {
          "data": {
            "image/png": "[encoded data removed]"
          },
          "metadata": {},
          "output_type": "display_data"
        }
      ]
    },
    {
      "cell_type": "markdown",
      "metadata": {
        "id": "TtEjH2GPKZJs"
      },
      "source": [
        "Виден спад создания игр в индустрии последних лет. Скорее всего это связано с бoльшей трудоемкостью создания современных продуктов, нежели их \"прадедов\"."
      ]
    },
    {
      "cell_type": "markdown",
      "metadata": {
        "id": "H0ABQh-KKZJs"
      },
      "source": [
        "Найдем платформы с наибольшим количеством продаж за все время."
      ]
    },
    {
      "cell_type": "code",
      "metadata": {
        "scrolled": false,
        "id": "TgjXFLyDKZJs",
        "outputId": "eab435cc-e4ac-46d2-846d-ee519176c81b"
      },
      "source": [
        "data.groupby('platform')['all_sales'].count().sort_values(ascending = False).head(4)"
      ],
      "execution_count": null,
      "outputs": [
        {
          "data": {},
          "execution_count": 8,
          "metadata": {},
          "output_type": "execute_result"
        }
      ]
    },
    {
      "cell_type": "markdown",
      "metadata": {
        "id": "gS8xm2IbKZJt"
      },
      "source": [
        "Самые популярные платформы - PS2, DS, PS3, Wii. Посмотрим на их продажи по годам"
      ]
    },
    {
      "cell_type": "markdown",
      "metadata": {
        "id": "8pjJ50BCKZJt"
      },
      "source": [
        "Продажи PS2:"
      ]
    },
    {
      "cell_type": "code",
      "metadata": {
        "scrolled": false,
        "id": "dLDiMsu3KZJu",
        "outputId": "3bf10bc2-1e5f-4bf2-df00-f379047aa6e0"
      },
      "source": [
        "ps2 = data[data['platform'] == 'PS2']\n",
        "ps2_year = ps2.pivot_table(index='year_of_release', values='all_sales', aggfunc = 'sum')\n",
        "ps2_year.plot()"
      ],
      "execution_count": null,
      "outputs": [
        {
          "data": {},
          "execution_count": 9,
          "metadata": {},
          "output_type": "execute_result"
        },
        {
          "data": {
            "image/png": "[encoded data removed]"
          },
          "metadata": {},
          "output_type": "display_data"
        }
      ]
    },
    {
      "cell_type": "markdown",
      "metadata": {
        "id": "3NjjtemEKZJu"
      },
      "source": [
        "Продажи на PS2 сошли на нет после 2010 года. На консоль продавались игры порядка 10 лет."
      ]
    },
    {
      "cell_type": "markdown",
      "metadata": {
        "id": "2z3L1NqaKZJv"
      },
      "source": [
        "Продажи DS:"
      ]
    },
    {
      "cell_type": "code",
      "metadata": {
        "scrolled": true,
        "id": "cY-Xd9J_KZJv",
        "outputId": "56b32154-691f-472e-d612-fd7f9a25cd60"
      },
      "source": [
        "ds = data[data['platform'] == 'DS']\n",
        "ds_year = ds.pivot_table(index='year_of_release', values='all_sales', aggfunc = 'sum')\n",
        "ds_year.plot()"
      ],
      "execution_count": null,
      "outputs": [
        {
          "data": {},
          "execution_count": 10,
          "metadata": {},
          "output_type": "execute_result"
        },
        {
          "data": {
            "image/png": "[encoded data removed]"
          },
          "metadata": {},
          "output_type": "display_data"
        }
      ]
    },
    {
      "cell_type": "markdown",
      "metadata": {
        "id": "bASjNzeNKZJv"
      },
      "source": [
        "Для DS ситуация аналогична, но статистику портит 1985 год с незначительным количеством продаж. Учитывая, что платформа появилась на свет в 2004-2005, можно сделать вывод, что это вброс."
      ]
    },
    {
      "cell_type": "markdown",
      "metadata": {
        "id": "QD6OT3HeKZJw"
      },
      "source": [
        "Уберем из таблицы игру, выпущенную в 1985 на платформе DS."
      ]
    },
    {
      "cell_type": "code",
      "metadata": {
        "id": "ouxCvVF_KZJw",
        "outputId": "a479b4d2-a529-463f-f290-a9acfbbffaf4"
      },
      "source": [
        "data.query('(platform == \"DS\") & (year_of_release == 1985)')"
      ],
      "execution_count": null,
      "outputs": [
        {
          "data": {},
          "execution_count": 11,
          "metadata": {},
          "output_type": "execute_result"
        }
      ]
    },
    {
      "cell_type": "code",
      "metadata": {
        "id": "P1Jf8x_KKZJx"
      },
      "source": [
        "data = data[data['name']!='Strongest Tokyo University Shogi DS']"
      ],
      "execution_count": null,
      "outputs": []
    },
    {
      "cell_type": "code",
      "metadata": {
        "id": "k8U-eBbxKZJx",
        "outputId": "aa32f05e-2d0f-4b5f-f69b-abd8531fd5a0"
      },
      "source": [
        "data.query('(platform == \"DS\") & (year_of_release == 1985)')"
      ],
      "execution_count": null,
      "outputs": [
        {
          "data": {},
          "execution_count": 13,
          "metadata": {},
          "output_type": "execute_result"
        }
      ]
    },
    {
      "cell_type": "code",
      "metadata": {
        "scrolled": false,
        "id": "lVJj93EHKZJx",
        "outputId": "5a6e0d38-9cdd-43f1-a0b2-2f2f031a2824"
      },
      "source": [
        "ds = data[data['platform'] == 'DS']\n",
        "ds_year = ds.pivot_table(index='year_of_release', values='all_sales', aggfunc = 'sum')\n",
        "ds_year.plot()"
      ],
      "execution_count": null,
      "outputs": [
        {
          "data": {},
          "execution_count": 14,
          "metadata": {},
          "output_type": "execute_result"
        },
        {
          "data": {
            "image/png": "[encoded data removed]"
          },
          "metadata": {},
          "output_type": "display_data"
        }
      ]
    },
    {
      "cell_type": "markdown",
      "metadata": {
        "id": "Sp9hH_WjKZJy"
      },
      "source": [
        "Продажи на DS сошли на нет после 2013 года. На консоль продавались игры порядка 10 лет."
      ]
    },
    {
      "cell_type": "markdown",
      "metadata": {
        "id": "Suu5_lQcKZJy"
      },
      "source": [
        "Продажи на PS3:"
      ]
    },
    {
      "cell_type": "code",
      "metadata": {
        "id": "PUi9-gzpKZJy",
        "outputId": "d6161f41-0fde-42cf-b130-73fcf66da404"
      },
      "source": [
        "ps3 = data[data['platform'] == 'PS3']\n",
        "ps3_year = ps3.pivot_table(index='year_of_release', values='all_sales', aggfunc = 'sum')\n",
        "ps3_year.plot()"
      ],
      "execution_count": null,
      "outputs": [
        {
          "data": {},
          "execution_count": 15,
          "metadata": {},
          "output_type": "execute_result"
        },
        {
          "data": {
            "image/png": "[encoded data removed]"
          },
          "metadata": {},
          "output_type": "display_data"
        }
      ]
    },
    {
      "cell_type": "markdown",
      "metadata": {
        "id": "shLgyNYwKZJy"
      },
      "source": [
        "Продажи на PS3 сошли на нет после 2016 года. На консоль продавались игры порядка 10 лет."
      ]
    },
    {
      "cell_type": "markdown",
      "metadata": {
        "id": "iJxB5re7KZJz"
      },
      "source": [
        "Продажи на Wii:"
      ]
    },
    {
      "cell_type": "code",
      "metadata": {
        "id": "n4tzlbBjKZJz",
        "outputId": "d3900f6a-81fc-4b70-f521-85eb28102b53"
      },
      "source": [
        "wii = data[data['platform'] == 'Wii']\n",
        "wii_year = wii.pivot_table(index='year_of_release', values='all_sales', aggfunc = 'sum')\n",
        "wii_year.plot()"
      ],
      "execution_count": null,
      "outputs": [
        {
          "data": {},
          "execution_count": 16,
          "metadata": {},
          "output_type": "execute_result"
        },
        {
          "data": {
            "image/png": "[encoded data removed]"
          },
          "metadata": {},
          "output_type": "display_data"
        }
      ]
    },
    {
      "cell_type": "markdown",
      "metadata": {
        "id": "Z9oxq5r6KZJz"
      },
      "source": [
        "Продажи на Wii сошли на нет после 2016 года. На консоль продавались игры порядка 10 лет."
      ]
    },
    {
      "cell_type": "markdown",
      "metadata": {
        "id": "jkpBdIfZKZJz"
      },
      "source": [
        "Все 4 платформы появились и исчезли за 10 лет. На данный момент они на спаде. Для предсказания тенденций рынка после 2016 будем орентироваться на консоли более нового поколения. Новое поколение консолей - PS4, XboxOne - вышли на свет в 2013 году. Значит, отбросим данные за 2012 год и ранее."
      ]
    },
    {
      "cell_type": "code",
      "metadata": {
        "id": "4XIxUuynKZJ0"
      },
      "source": [
        "data = data[data['year_of_release']>=2013]"
      ],
      "execution_count": null,
      "outputs": []
    },
    {
      "cell_type": "code",
      "metadata": {
        "id": "0qUsLV2SKZJ0",
        "outputId": "129397d4-7daf-4d79-92e5-a7b3c77a75fa"
      },
      "source": [
        "all_platforms = data['platform'].unique()\n",
        "for row in all_platforms:\n",
        "    data_platform = data[data['platform']==row]\n",
        "    sales_platform = data_platform.pivot_table(index='year_of_release', values='all_sales', aggfunc = 'sum')\n",
        "    sales_platform.plot(title = row)"
      ],
      "execution_count": null,
      "outputs": [
        {
          "data": {
            "image/png": "[encoded data removed]"
          },
          "metadata": {},
          "output_type": "display_data"
        },
        {
          "data": {
            "image/png": "[encoded data removed]"
          },
          "metadata": {},
          "output_type": "display_data"
        },
        {
          "data": {
            "image/png": "[encoded data removed]"
          },
          "metadata": {},
          "output_type": "display_data"
        },
        {
          "data": {
            "image/png": "[encoded data removed]"
          },
          "metadata": {},
          "output_type": "display_data"
        },
        {
          "data": {
            "image/png": "[encoded data removed]"
          },
          "metadata": {},
          "output_type": "display_data"
        },
        {
          "data": {
            "image/png": "[encoded data removed]"
          },
          "metadata": {},
          "output_type": "display_data"
        },
        {
          "data": {
            "image/png": "[encoded data removed]"
          },
          "metadata": {},
          "output_type": "display_data"
        },
        {
          "data": {
            "image/png": "[encoded data removed]"
          },
          "metadata": {},
          "output_type": "display_data"
        },
        {
          "data": {
            "image/png": "[encoded data removed]"
          },
          "metadata": {},
          "output_type": "display_data"
        },
        {
          "data": {
            "image/png": "[encoded data removed]"
          },
          "metadata": {},
          "output_type": "display_data"
        },
        {
          "data": {
            "image/png": "[encoded data removed]"
          },
          "metadata": {},
          "output_type": "display_data"
        }
      ]
    },
    {
      "cell_type": "markdown",
      "metadata": {
        "id": "FbbFiS9wKZJ0"
      },
      "source": [
        "Взгляним на продажи всех доступных платформ. Наблюдается общий спад продаж, однако у PS4 и XOne дела обстоят не так плохо. Поэтому можно считать эти платформы самыми перспективными."
      ]
    },
    {
      "cell_type": "markdown",
      "metadata": {
        "id": "lWk25E_KKZJ1"
      },
      "source": [
        "Посмотрим на средние продажи по разным платформам."
      ]
    },
    {
      "cell_type": "code",
      "metadata": {
        "id": "R2iU2Ww7KZJ1",
        "outputId": "cc9bc8f2-073e-485a-c2cf-d4fd1914a86d"
      },
      "source": [
        "sns.catplot(x=\"platform\", \n",
        "            y='all_sales', \n",
        "            kind=\"box\", \n",
        "            data=data, \n",
        "            orient='v', \n",
        "            height=8, \n",
        "            aspect=2.7, \n",
        "            palette='rocket_r')\n",
        "_ = plt.ylim(0, 2)\n",
        "\n",
        "data.pivot_table(index='platform', values='all_sales', aggfunc='sum').sort_values(by='all_sales', ascending = False)"
      ],
      "execution_count": null,
      "outputs": [
        {
          "data": {},
          "execution_count": 19,
          "metadata": {},
          "output_type": "execute_result"
        },
        {
          "data": {
            "image/png": "[encoded data removed]"
          },
          "metadata": {},
          "output_type": "display_data"
        }
      ]
    },
    {
      "cell_type": "markdown",
      "metadata": {
        "id": "9TIA9P3aKZJ1"
      },
      "source": [
        "К лидерам по продажам за актуальный период относятся PS4, PS3 и XOne. При этом к лидерам по средним продажам относятся X360, XOne, WiiU и Wii."
      ]
    },
    {
      "cell_type": "markdown",
      "metadata": {
        "id": "jQ3HoEgJKZJ2"
      },
      "source": [
        "Итак, самой популярной платформой являлась PS2. На примере этой платформы посмотрим как рейтинг критиков и пользователей влияет на продажи."
      ]
    },
    {
      "cell_type": "code",
      "metadata": {
        "id": "Mg8hpJoFKZJ2",
        "outputId": "e18c3d67-fd48-4d85-fdf7-9dbdf7cecf92"
      },
      "source": [
        "ps2 = data[(data['user_score']!=-1) & (data['critic_score']!=-1) & (data['platform']!='PS2')]\n",
        "ps2"
      ],
      "execution_count": null,
      "outputs": [
        {
          "data": {},
          "execution_count": 20,
          "metadata": {},
          "output_type": "execute_result"
        }
      ]
    },
    {
      "cell_type": "code",
      "metadata": {
        "id": "OO4_9FjdKZJ2",
        "outputId": "abb98348-374d-4689-fddc-7b633f69918f"
      },
      "source": [
        "for column in ['user_score', 'critic_score']:\n",
        "    print('----------------'+str(column)+'----------------')\n",
        "    print(round(ps2[column].corr(ps2['all_sales']), 3))\n",
        "    sns.relplot(x=column, y=\"all_sales\", data=ps2)"
      ],
      "execution_count": null,
      "outputs": [
        {
          "data": {
            "image/png": "[encoded data removed]"
          },
          "metadata": {},
          "output_type": "display_data"
        },
        {
          "data": {
            "image/png": "[encoded data removed]"
          },
          "metadata": {},
          "output_type": "display_data"
        }
      ]
    },
    {
      "cell_type": "markdown",
      "metadata": {
        "id": "SwBb6q0bKZJ3"
      },
      "source": [
        "Корреляция между отзывами критиков и продажами на PS2 составила 0.312, а между отзывами пользователей и продажами -0,004. Иными словами, отзывы критиков больше влияют на продажи игр, чем отзывы пользователей. Проверим данную картину и для других платформ."
      ]
    },
    {
      "cell_type": "markdown",
      "metadata": {
        "id": "m3bbJfzyKZJ3"
      },
      "source": [
        "Для PS4:"
      ]
    },
    {
      "cell_type": "code",
      "metadata": {
        "scrolled": true,
        "id": "dj6u2KyZKZJ3",
        "outputId": "9dd2a5b7-5efc-40e9-b52a-13e7a9fc3496"
      },
      "source": [
        "ps4 = data[(data['user_score']!=-1) & (data['critic_score']!=-1) & (data['platform']!='PS4')]\n",
        "for column in ['user_score', 'critic_score']:\n",
        "    print('----------------'+str(column)+'----------------')\n",
        "    print(round(ps4[column].corr(ps4['all_sales']), 3))\n",
        "    sns.relplot(x=column, y=\"all_sales\", data=ps4)"
      ],
      "execution_count": null,
      "outputs": [
        {
          "data": {
            "image/png": "[encoded data removed]"
          },
          "metadata": {},
          "output_type": "display_data"
        },
        {
          "data": {
            "image/png": "[encoded data removed]"
          },
          "metadata": {},
          "output_type": "display_data"
        }
      ]
    },
    {
      "cell_type": "markdown",
      "metadata": {
        "id": "uQaOxHPiKZJ4"
      },
      "source": [
        "Для X360:"
      ]
    },
    {
      "cell_type": "code",
      "metadata": {
        "scrolled": true,
        "id": "kGOv0CtaKZJ4",
        "outputId": "1b40c028-6d03-4e38-f85a-58632f75460b"
      },
      "source": [
        "x360 = data[(data['user_score']!=-1) & (data['critic_score']!=-1) & (data['platform']!='X360')]\n",
        "for column in ['user_score', 'critic_score']:\n",
        "    print('----------------'+str(column)+'----------------')\n",
        "    print(round(x360[column].corr(x360['all_sales']), 3))\n",
        "    sns.relplot(x=column, y=\"all_sales\", data=x360)"
      ],
      "execution_count": null,
      "outputs": [
        {
          "data": {
            "image/png": "[encoded data removed]"
          },
          "metadata": {},
          "output_type": "display_data"
        },
        {
          "data": {
            "image/png": "[encoded data removed]"
          },
          "metadata": {},
          "output_type": "display_data"
        }
      ]
    },
    {
      "cell_type": "markdown",
      "metadata": {
        "id": "IHR_uqsPKZJ5"
      },
      "source": [
        "Ситуация аналогична для всех 3 платформ. Можно сделать вывод: __*рейтинг критиков влияет на продажи больше, чем рейтинг пользователей*__"
      ]
    },
    {
      "cell_type": "markdown",
      "metadata": {
        "id": "FVOppzxGKZJ5"
      },
      "source": [
        "Посмотрим на продажи жанров."
      ]
    },
    {
      "cell_type": "code",
      "metadata": {
        "id": "JCw_E8QOKZJ5",
        "outputId": "33cb945e-9f2a-472a-bcaa-6dcb93f46588"
      },
      "source": [
        "data.pivot_table(index='genre', values='all_sales', aggfunc = 'sum').sort_values(by='all_sales', ascending=False)"
      ],
      "execution_count": null,
      "outputs": [
        {
          "data": {},
          "execution_count": 24,
          "metadata": {},
          "output_type": "execute_result"
        }
      ]
    },
    {
      "cell_type": "markdown",
      "metadata": {
        "id": "d01nMeToKZJ5"
      },
      "source": [
        "Топ 3 жанра по прибыли: Action, Sports, Shooter. Самый неприбыльный жанр - Strategy."
      ]
    },
    {
      "cell_type": "markdown",
      "metadata": {
        "id": "lrWXKwUAKZJ6"
      },
      "source": [
        "Рассмотрим продажи каждого региона по платформам."
      ]
    },
    {
      "cell_type": "code",
      "metadata": {
        "id": "ks6NfLQjKZJ6",
        "outputId": "0c63ed5f-aa80-4966-ea79-438cc90047fb"
      },
      "source": [
        "na_sales = data.pivot_table(index='platform', values='na_sales', aggfunc='sum').sort_values(by='na_sales', ascending=False).head(5)\n",
        "na_sales.columns = ['sales']\n",
        "\n",
        "eu_sales = data.pivot_table(index='platform', values='eu_sales', aggfunc='sum').sort_values(by='eu_sales', ascending=False).head(5)\n",
        "eu_sales.columns = ['sales']\n",
        "\n",
        "jp_sales = data.pivot_table(index='platform', values='jp_sales', aggfunc='sum').sort_values(by='jp_sales', ascending=False).head(5)\n",
        "jp_sales.columns = ['sales']\n",
        "\n",
        "\n",
        "fig = go.Figure(data=[\n",
        "    go.Bar(name='North America', x=na_sales.index, y=na_sales['sales']),\n",
        "    go.Bar(name='Europe', x=eu_sales.index, y=eu_sales['sales']),\n",
        "    go.Bar(name='Japan', x=jp_sales.index, y=jp_sales['sales']),\n",
        "])\n",
        "fig.update_layout(barmode='group')\n",
        "fig.show()\n",
        "\n",
        "for column in ['na_sales', 'eu_sales', 'jp_sales']:\n",
        "    region = data.pivot_table(index='platform', values=column, aggfunc='sum').sort_values(column, ascending=False)\n",
        "    print(region.nlargest(5, column))"
      ],
      "execution_count": null,
      "outputs": [
        {
          "data": {
            "application/vnd.plotly.v1+json": {
              "config": {
                "plotlyServerURL": "https://plot.ly"
              },
              "data": [
                {
                  "name": "North America",
                  "type": "bar",
                  "x": [
                    "PS4",
                    "XOne",
                    "X360",
                    "PS3",
                    "3DS"
                  ],
                  "y": [
                    108.74,
                    93.12,
                    81.66,
                    63.5,
                    38.2
                  ]
                },
                {
                  "name": "Europe",
                  "type": "bar",
                  "x": [
                    "PS4",
                    "PS3",
                    "XOne",
                    "X360",
                    "3DS"
                  ],
                  "y": [
                    141.09,
                    67.81,
                    51.59,
                    42.52,
                    30.96
                  ]
                },
                {
                  "name": "Japan",
                  "type": "bar",
                  "x": [
                    "3DS",
                    "PS3",
                    "PSV",
                    "PS4",
                    "WiiU"
                  ],
                  "y": [
                    67.81,
                    23.35,
                    18.59,
                    15.96,
                    10.88
                  ]
                }
              ],
              "layout": {
                "barmode": "group",
                "template": {
                  "data": {
                    "bar": [
                      {
                        "error_x": {
                          "color": "#2a3f5f"
                        },
                        "error_y": {
                          "color": "#2a3f5f"
                        },
                        "marker": {
                          "line": {
                            "color": "#E5ECF6",
                            "width": 0.5
                          }
                        },
                        "type": "bar"
                      }
                    ],
                    "barpolar": [
                      {
                        "marker": {
                          "line": {
                            "color": "#E5ECF6",
                            "width": 0.5
                          }
                        },
                        "type": "barpolar"
                      }
                    ],
                    "carpet": [
                      {
                        "aaxis": {
                          "endlinecolor": "#2a3f5f",
                          "gridcolor": "white",
                          "linecolor": "white",
                          "minorgridcolor": "white",
                          "startlinecolor": "#2a3f5f"
                        },
                        "baxis": {
                          "endlinecolor": "#2a3f5f",
                          "gridcolor": "white",
                          "linecolor": "white",
                          "minorgridcolor": "white",
                          "startlinecolor": "#2a3f5f"
                        },
                        "type": "carpet"
                      }
                    ],
                    "choropleth": [
                      {
                        "colorbar": {
                          "outlinewidth": 0,
                          "ticks": ""
                        },
                        "type": "choropleth"
                      }
                    ],
                    "contour": [
                      {
                        "colorbar": {
                          "outlinewidth": 0,
                          "ticks": ""
                        },
                        "colorscale": [
                          [
                            0,
                            "#0d0887"
                          ],
                          [
                            0.1111111111,
                            "#46039f"
                          ],
                          [
                            0.2222222222,
                            "#7201a8"
                          ],
                          [
                            0.3333333333,
                            "#9c179e"
                          ],
                          [
                            0.4444444444,
                            "#bd3786"
                          ],
                          [
                            0.5555555556,
                            "#d8576b"
                          ],
                          [
                            0.6666666667,
                            "#ed7953"
                          ],
                          [
                            0.7777777778,
                            "#fb9f3a"
                          ],
                          [
                            0.8888888889,
                            "#fdca26"
                          ],
                          [
                            1,
                            "#f0f921"
                          ]
                        ],
                        "type": "contour"
                      }
                    ],
                    "contourcarpet": [
                      {
                        "colorbar": {
                          "outlinewidth": 0,
                          "ticks": ""
                        },
                        "type": "contourcarpet"
                      }
                    ],
                    "heatmap": [
                      {
                        "colorbar": {
                          "outlinewidth": 0,
                          "ticks": ""
                        },
                        "colorscale": [
                          [
                            0,
                            "#0d0887"
                          ],
                          [
                            0.1111111111,
                            "#46039f"
                          ],
                          [
                            0.2222222222,
                            "#7201a8"
                          ],
                          [
                            0.3333333333,
                            "#9c179e"
                          ],
                          [
                            0.4444444444,
                            "#bd3786"
                          ],
                          [
                            0.5555555556,
                            "#d8576b"
                          ],
                          [
                            0.6666666667,
                            "#ed7953"
                          ],
                          [
                            0.7777777778,
                            "#fb9f3a"
                          ],
                          [
                            0.8888888889,
                            "#fdca26"
                          ],
                          [
                            1,
                            "#f0f921"
                          ]
                        ],
                        "type": "heatmap"
                      }
                    ],
                    "heatmapgl": [
                      {
                        "colorbar": {
                          "outlinewidth": 0,
                          "ticks": ""
                        },
                        "colorscale": [
                          [
                            0,
                            "#0d0887"
                          ],
                          [
                            0.1111111111,
                            "#46039f"
                          ],
                          [
                            0.2222222222,
                            "#7201a8"
                          ],
                          [
                            0.3333333333,
                            "#9c179e"
                          ],
                          [
                            0.4444444444,
                            "#bd3786"
                          ],
                          [
                            0.5555555556,
                            "#d8576b"
                          ],
                          [
                            0.6666666667,
                            "#ed7953"
                          ],
                          [
                            0.7777777778,
                            "#fb9f3a"
                          ],
                          [
                            0.8888888889,
                            "#fdca26"
                          ],
                          [
                            1,
                            "#f0f921"
                          ]
                        ],
                        "type": "heatmapgl"
                      }
                    ],
                    "histogram": [
                      {
                        "marker": {
                          "colorbar": {
                            "outlinewidth": 0,
                            "ticks": ""
                          }
                        },
                        "type": "histogram"
                      }
                    ],
                    "histogram2d": [
                      {
                        "colorbar": {
                          "outlinewidth": 0,
                          "ticks": ""
                        },
                        "colorscale": [
                          [
                            0,
                            "#0d0887"
                          ],
                          [
                            0.1111111111,
                            "#46039f"
                          ],
                          [
                            0.2222222222,
                            "#7201a8"
                          ],
                          [
                            0.3333333333,
                            "#9c179e"
                          ],
                          [
                            0.4444444444,
                            "#bd3786"
                          ],
                          [
                            0.5555555556,
                            "#d8576b"
                          ],
                          [
                            0.6666666667,
                            "#ed7953"
                          ],
                          [
                            0.7777777778,
                            "#fb9f3a"
                          ],
                          [
                            0.8888888889,
                            "#fdca26"
                          ],
                          [
                            1,
                            "#f0f921"
                          ]
                        ],
                        "type": "histogram2d"
                      }
                    ],
                    "histogram2dcontour": [
                      {
                        "colorbar": {
                          "outlinewidth": 0,
                          "ticks": ""
                        },
                        "colorscale": [
                          [
                            0,
                            "#0d0887"
                          ],
                          [
                            0.1111111111,
                            "#46039f"
                          ],
                          [
                            0.2222222222,
                            "#7201a8"
                          ],
                          [
                            0.3333333333,
                            "#9c179e"
                          ],
                          [
                            0.4444444444,
                            "#bd3786"
                          ],
                          [
                            0.5555555556,
                            "#d8576b"
                          ],
                          [
                            0.6666666667,
                            "#ed7953"
                          ],
                          [
                            0.7777777778,
                            "#fb9f3a"
                          ],
                          [
                            0.8888888889,
                            "#fdca26"
                          ],
                          [
                            1,
                            "#f0f921"
                          ]
                        ],
                        "type": "histogram2dcontour"
                      }
                    ],
                    "mesh3d": [
                      {
                        "colorbar": {
                          "outlinewidth": 0,
                          "ticks": ""
                        },
                        "type": "mesh3d"
                      }
                    ],
                    "parcoords": [
                      {
                        "line": {
                          "colorbar": {
                            "outlinewidth": 0,
                            "ticks": ""
                          }
                        },
                        "type": "parcoords"
                      }
                    ],
                    "scatter": [
                      {
                        "marker": {
                          "colorbar": {
                            "outlinewidth": 0,
                            "ticks": ""
                          }
                        },
                        "type": "scatter"
                      }
                    ],
                    "scatter3d": [
                      {
                        "line": {
                          "colorbar": {
                            "outlinewidth": 0,
                            "ticks": ""
                          }
                        },
                        "marker": {
                          "colorbar": {
                            "outlinewidth": 0,
                            "ticks": ""
                          }
                        },
                        "type": "scatter3d"
                      }
                    ],
                    "scattercarpet": [
                      {
                        "marker": {
                          "colorbar": {
                            "outlinewidth": 0,
                            "ticks": ""
                          }
                        },
                        "type": "scattercarpet"
                      }
                    ],
                    "scattergeo": [
                      {
                        "marker": {
                          "colorbar": {
                            "outlinewidth": 0,
                            "ticks": ""
                          }
                        },
                        "type": "scattergeo"
                      }
                    ],
                    "scattergl": [
                      {
                        "marker": {
                          "colorbar": {
                            "outlinewidth": 0,
                            "ticks": ""
                          }
                        },
                        "type": "scattergl"
                      }
                    ],
                    "scattermapbox": [
                      {
                        "marker": {
                          "colorbar": {
                            "outlinewidth": 0,
                            "ticks": ""
                          }
                        },
                        "type": "scattermapbox"
                      }
                    ],
                    "scatterpolar": [
                      {
                        "marker": {
                          "colorbar": {
                            "outlinewidth": 0,
                            "ticks": ""
                          }
                        },
                        "type": "scatterpolar"
                      }
                    ],
                    "scatterpolargl": [
                      {
                        "marker": {
                          "colorbar": {
                            "outlinewidth": 0,
                            "ticks": ""
                          }
                        },
                        "type": "scatterpolargl"
                      }
                    ],
                    "scatterternary": [
                      {
                        "marker": {
                          "colorbar": {
                            "outlinewidth": 0,
                            "ticks": ""
                          }
                        },
                        "type": "scatterternary"
                      }
                    ],
                    "surface": [
                      {
                        "colorbar": {
                          "outlinewidth": 0,
                          "ticks": ""
                        },
                        "colorscale": [
                          [
                            0,
                            "#0d0887"
                          ],
                          [
                            0.1111111111,
                            "#46039f"
                          ],
                          [
                            0.2222222222,
                            "#7201a8"
                          ],
                          [
                            0.3333333333,
                            "#9c179e"
                          ],
                          [
                            0.4444444444,
                            "#bd3786"
                          ],
                          [
                            0.5555555556,
                            "#d8576b"
                          ],
                          [
                            0.6666666667,
                            "#ed7953"
                          ],
                          [
                            0.7777777778,
                            "#fb9f3a"
                          ],
                          [
                            0.8888888889,
                            "#fdca26"
                          ],
                          [
                            1,
                            "#f0f921"
                          ]
                        ],
                        "type": "surface"
                      }
                    ],
                    "table": [
                      {
                        "cells": {
                          "fill": {
                            "color": "#EBF0F8"
                          },
                          "line": {
                            "color": "white"
                          }
                        },
                        "header": {
                          "fill": {
                            "color": "#C8D4E3"
                          },
                          "line": {
                            "color": "white"
                          }
                        },
                        "type": "table"
                      }
                    ]
                  },
                  "layout": {
                    "annotationdefaults": {
                      "arrowcolor": "#2a3f5f",
                      "arrowhead": 0,
                      "arrowwidth": 1
                    },
                    "colorscale": {
                      "diverging": [
                        [
                          0,
                          "#8e0152"
                        ],
                        [
                          0.1,
                          "#c51b7d"
                        ],
                        [
                          0.2,
                          "#de77ae"
                        ],
                        [
                          0.3,
                          "#f1b6da"
                        ],
                        [
                          0.4,
                          "#fde0ef"
                        ],
                        [
                          0.5,
                          "#f7f7f7"
                        ],
                        [
                          0.6,
                          "#e6f5d0"
                        ],
                        [
                          0.7,
                          "#b8e186"
                        ],
                        [
                          0.8,
                          "#7fbc41"
                        ],
                        [
                          0.9,
                          "#4d9221"
                        ],
                        [
                          1,
                          "#276419"
                        ]
                      ],
                      "sequential": [
                        [
                          0,
                          "#0d0887"
                        ],
                        [
                          0.1111111111,
                          "#46039f"
                        ],
                        [
                          0.2222222222,
                          "#7201a8"
                        ],
                        [
                          0.3333333333,
                          "#9c179e"
                        ],
                        [
                          0.4444444444,
                          "#bd3786"
                        ],
                        [
                          0.5555555556,
                          "#d8576b"
                        ],
                        [
                          0.6666666667,
                          "#ed7953"
                        ],
                        [
                          0.7777777778,
                          "#fb9f3a"
                        ],
                        [
                          0.8888888889,
                          "#fdca26"
                        ],
                        [
                          1,
                          "#f0f921"
                        ]
                      ],
                      "sequentialminus": [
                        [
                          0,
                          "#0d0887"
                        ],
                        [
                          0.1111111111,
                          "#46039f"
                        ],
                        [
                          0.2222222222,
                          "#7201a8"
                        ],
                        [
                          0.3333333333,
                          "#9c179e"
                        ],
                        [
                          0.4444444444,
                          "#bd3786"
                        ],
                        [
                          0.5555555556,
                          "#d8576b"
                        ],
                        [
                          0.6666666667,
                          "#ed7953"
                        ],
                        [
                          0.7777777778,
                          "#fb9f3a"
                        ],
                        [
                          0.8888888889,
                          "#fdca26"
                        ],
                        [
                          1,
                          "#f0f921"
                        ]
                      ]
                    },
                    "colorway": [
                      "#636efa",
                      "#EF553B",
                      "#00cc96",
                      "#ab63fa",
                      "#FFA15A",
                      "#19d3f3",
                      "#FF6692",
                      "#B6E880",
                      "#FF97FF",
                      "#FECB52"
                    ],
                    "font": {
                      "color": "#2a3f5f"
                    },
                    "geo": {
                      "bgcolor": "white",
                      "lakecolor": "white",
                      "landcolor": "#E5ECF6",
                      "showlakes": true,
                      "showland": true,
                      "subunitcolor": "white"
                    },
                    "hoverlabel": {
                      "align": "left"
                    },
                    "hovermode": "closest",
                    "mapbox": {
                      "style": "light"
                    },
                    "paper_bgcolor": "white",
                    "plot_bgcolor": "#E5ECF6",
                    "polar": {
                      "angularaxis": {
                        "gridcolor": "white",
                        "linecolor": "white",
                        "ticks": ""
                      },
                      "bgcolor": "#E5ECF6",
                      "radialaxis": {
                        "gridcolor": "white",
                        "linecolor": "white",
                        "ticks": ""
                      }
                    },
                    "scene": {
                      "xaxis": {
                        "backgroundcolor": "#E5ECF6",
                        "gridcolor": "white",
                        "gridwidth": 2,
                        "linecolor": "white",
                        "showbackground": true,
                        "ticks": "",
                        "zerolinecolor": "white"
                      },
                      "yaxis": {
                        "backgroundcolor": "#E5ECF6",
                        "gridcolor": "white",
                        "gridwidth": 2,
                        "linecolor": "white",
                        "showbackground": true,
                        "ticks": "",
                        "zerolinecolor": "white"
                      },
                      "zaxis": {
                        "backgroundcolor": "#E5ECF6",
                        "gridcolor": "white",
                        "gridwidth": 2,
                        "linecolor": "white",
                        "showbackground": true,
                        "ticks": "",
                        "zerolinecolor": "white"
                      }
                    },
                    "shapedefaults": {
                      "line": {
                        "color": "#2a3f5f"
                      }
                    },
                    "ternary": {
                      "aaxis": {
                        "gridcolor": "white",
                        "linecolor": "white",
                        "ticks": ""
                      },
                      "baxis": {
                        "gridcolor": "white",
                        "linecolor": "white",
                        "ticks": ""
                      },
                      "bgcolor": "#E5ECF6",
                      "caxis": {
                        "gridcolor": "white",
                        "linecolor": "white",
                        "ticks": ""
                      }
                    },
                    "title": {
                      "x": 0.05
                    },
                    "xaxis": {
                      "automargin": true,
                      "gridcolor": "white",
                      "linecolor": "white",
                      "ticks": "",
                      "zerolinecolor": "white",
                      "zerolinewidth": 2
                    },
                    "yaxis": {
                      "automargin": true,
                      "gridcolor": "white",
                      "linecolor": "white",
                      "ticks": "",
                      "zerolinecolor": "white",
                      "zerolinewidth": 2
                    }
                  }
                }
              }
            },
            "text/html": [
              "<div>\n",
              "        \n",
              "        \n",
              "            <div id=\"9a2aef4e-5d6d-4dd0-a9f1-89eede54503b\" class=\"plotly-graph-div\" style=\"height:525px; width:100%;\"></div>\n",
              "            <script type=\"text/javascript\">\n",
              "                require([\"plotly\"], function(Plotly) {\n",
              "                    window.PLOTLYENV=window.PLOTLYENV || {};\n",
              "                    \n",
              "                if (document.getElementById(\"9a2aef4e-5d6d-4dd0-a9f1-89eede54503b\")) {\n",
              "                    Plotly.newPlot(\n",
              "                        '9a2aef4e-5d6d-4dd0-a9f1-89eede54503b',\n",
              "                        [{\"name\": \"North America\", \"type\": \"bar\", \"x\": [\"PS4\", \"XOne\", \"X360\", \"PS3\", \"3DS\"], \"y\": [108.7400000000001, 93.12000000000005, 81.66000000000001, 63.50000000000005, 38.19999999999999]}, {\"name\": \"Europe\", \"type\": \"bar\", \"x\": [\"PS4\", \"PS3\", \"XOne\", \"X360\", \"3DS\"], \"y\": [141.09000000000032, 67.81000000000009, 51.59, 42.519999999999996, 30.960000000000026]}, {\"name\": \"Japan\", \"type\": \"bar\", \"x\": [\"3DS\", \"PS3\", \"PSV\", \"PS4\", \"WiiU\"], \"y\": [67.81000000000004, 23.350000000000016, 18.59000000000008, 15.95999999999997, 10.879999999999992]}],\n",
              "                        {\"barmode\": \"group\", \"template\": {\"data\": {\"bar\": [{\"error_x\": {\"color\": \"#2a3f5f\"}, \"error_y\": {\"color\": \"#2a3f5f\"}, \"marker\": {\"line\": {\"color\": \"#E5ECF6\", \"width\": 0.5}}, \"type\": \"bar\"}], \"barpolar\": [{\"marker\": {\"line\": {\"color\": \"#E5ECF6\", \"width\": 0.5}}, \"type\": \"barpolar\"}], \"carpet\": [{\"aaxis\": {\"endlinecolor\": \"#2a3f5f\", \"gridcolor\": \"white\", \"linecolor\": \"white\", \"minorgridcolor\": \"white\", \"startlinecolor\": \"#2a3f5f\"}, \"baxis\": {\"endlinecolor\": \"#2a3f5f\", \"gridcolor\": \"white\", \"linecolor\": \"white\", \"minorgridcolor\": \"white\", \"startlinecolor\": \"#2a3f5f\"}, \"type\": \"carpet\"}], \"choropleth\": [{\"colorbar\": {\"outlinewidth\": 0, \"ticks\": \"\"}, \"type\": \"choropleth\"}], \"contour\": [{\"colorbar\": {\"outlinewidth\": 0, \"ticks\": \"\"}, \"colorscale\": [[0.0, \"#0d0887\"], [0.1111111111111111, \"#46039f\"], [0.2222222222222222, \"#7201a8\"], [0.3333333333333333, \"#9c179e\"], [0.4444444444444444, \"#bd3786\"], [0.5555555555555556, \"#d8576b\"], [0.6666666666666666, \"#ed7953\"], [0.7777777777777778, \"#fb9f3a\"], [0.8888888888888888, \"#fdca26\"], [1.0, \"#f0f921\"]], \"type\": \"contour\"}], \"contourcarpet\": [{\"colorbar\": {\"outlinewidth\": 0, \"ticks\": \"\"}, \"type\": \"contourcarpet\"}], \"heatmap\": [{\"colorbar\": {\"outlinewidth\": 0, \"ticks\": \"\"}, \"colorscale\": [[0.0, \"#0d0887\"], [0.1111111111111111, \"#46039f\"], [0.2222222222222222, \"#7201a8\"], [0.3333333333333333, \"#9c179e\"], [0.4444444444444444, \"#bd3786\"], [0.5555555555555556, \"#d8576b\"], [0.6666666666666666, \"#ed7953\"], [0.7777777777777778, \"#fb9f3a\"], [0.8888888888888888, \"#fdca26\"], [1.0, \"#f0f921\"]], \"type\": \"heatmap\"}], \"heatmapgl\": [{\"colorbar\": {\"outlinewidth\": 0, \"ticks\": \"\"}, \"colorscale\": [[0.0, \"#0d0887\"], [0.1111111111111111, \"#46039f\"], [0.2222222222222222, \"#7201a8\"], [0.3333333333333333, \"#9c179e\"], [0.4444444444444444, \"#bd3786\"], [0.5555555555555556, \"#d8576b\"], [0.6666666666666666, \"#ed7953\"], [0.7777777777777778, \"#fb9f3a\"], [0.8888888888888888, \"#fdca26\"], [1.0, \"#f0f921\"]], \"type\": \"heatmapgl\"}], \"histogram\": [{\"marker\": {\"colorbar\": {\"outlinewidth\": 0, \"ticks\": \"\"}}, \"type\": \"histogram\"}], \"histogram2d\": [{\"colorbar\": {\"outlinewidth\": 0, \"ticks\": \"\"}, \"colorscale\": [[0.0, \"#0d0887\"], [0.1111111111111111, \"#46039f\"], [0.2222222222222222, \"#7201a8\"], [0.3333333333333333, \"#9c179e\"], [0.4444444444444444, \"#bd3786\"], [0.5555555555555556, \"#d8576b\"], [0.6666666666666666, \"#ed7953\"], [0.7777777777777778, \"#fb9f3a\"], [0.8888888888888888, \"#fdca26\"], [1.0, \"#f0f921\"]], \"type\": \"histogram2d\"}], \"histogram2dcontour\": [{\"colorbar\": {\"outlinewidth\": 0, \"ticks\": \"\"}, \"colorscale\": [[0.0, \"#0d0887\"], [0.1111111111111111, \"#46039f\"], [0.2222222222222222, \"#7201a8\"], [0.3333333333333333, \"#9c179e\"], [0.4444444444444444, \"#bd3786\"], [0.5555555555555556, \"#d8576b\"], [0.6666666666666666, \"#ed7953\"], [0.7777777777777778, \"#fb9f3a\"], [0.8888888888888888, \"#fdca26\"], [1.0, \"#f0f921\"]], \"type\": \"histogram2dcontour\"}], \"mesh3d\": [{\"colorbar\": {\"outlinewidth\": 0, \"ticks\": \"\"}, \"type\": \"mesh3d\"}], \"parcoords\": [{\"line\": {\"colorbar\": {\"outlinewidth\": 0, \"ticks\": \"\"}}, \"type\": \"parcoords\"}], \"scatter\": [{\"marker\": {\"colorbar\": {\"outlinewidth\": 0, \"ticks\": \"\"}}, \"type\": \"scatter\"}], \"scatter3d\": [{\"line\": {\"colorbar\": {\"outlinewidth\": 0, \"ticks\": \"\"}}, \"marker\": {\"colorbar\": {\"outlinewidth\": 0, \"ticks\": \"\"}}, \"type\": \"scatter3d\"}], \"scattercarpet\": [{\"marker\": {\"colorbar\": {\"outlinewidth\": 0, \"ticks\": \"\"}}, \"type\": \"scattercarpet\"}], \"scattergeo\": [{\"marker\": {\"colorbar\": {\"outlinewidth\": 0, \"ticks\": \"\"}}, \"type\": \"scattergeo\"}], \"scattergl\": [{\"marker\": {\"colorbar\": {\"outlinewidth\": 0, \"ticks\": \"\"}}, \"type\": \"scattergl\"}], \"scattermapbox\": [{\"marker\": {\"colorbar\": {\"outlinewidth\": 0, \"ticks\": \"\"}}, \"type\": \"scattermapbox\"}], \"scatterpolar\": [{\"marker\": {\"colorbar\": {\"outlinewidth\": 0, \"ticks\": \"\"}}, \"type\": \"scatterpolar\"}], \"scatterpolargl\": [{\"marker\": {\"colorbar\": {\"outlinewidth\": 0, \"ticks\": \"\"}}, \"type\": \"scatterpolargl\"}], \"scatterternary\": [{\"marker\": {\"colorbar\": {\"outlinewidth\": 0, \"ticks\": \"\"}}, \"type\": \"scatterternary\"}], \"surface\": [{\"colorbar\": {\"outlinewidth\": 0, \"ticks\": \"\"}, \"colorscale\": [[0.0, \"#0d0887\"], [0.1111111111111111, \"#46039f\"], [0.2222222222222222, \"#7201a8\"], [0.3333333333333333, \"#9c179e\"], [0.4444444444444444, \"#bd3786\"], [0.5555555555555556, \"#d8576b\"], [0.6666666666666666, \"#ed7953\"], [0.7777777777777778, \"#fb9f3a\"], [0.8888888888888888, \"#fdca26\"], [1.0, \"#f0f921\"]], \"type\": \"surface\"}], \"table\": [{\"cells\": {\"fill\": {\"color\": \"#EBF0F8\"}, \"line\": {\"color\": \"white\"}}, \"header\": {\"fill\": {\"color\": \"#C8D4E3\"}, \"line\": {\"color\": \"white\"}}, \"type\": \"table\"}]}, \"layout\": {\"annotationdefaults\": {\"arrowcolor\": \"#2a3f5f\", \"arrowhead\": 0, \"arrowwidth\": 1}, \"colorscale\": {\"diverging\": [[0, \"#8e0152\"], [0.1, \"#c51b7d\"], [0.2, \"#de77ae\"], [0.3, \"#f1b6da\"], [0.4, \"#fde0ef\"], [0.5, \"#f7f7f7\"], [0.6, \"#e6f5d0\"], [0.7, \"#b8e186\"], [0.8, \"#7fbc41\"], [0.9, \"#4d9221\"], [1, \"#276419\"]], \"sequential\": [[0.0, \"#0d0887\"], [0.1111111111111111, \"#46039f\"], [0.2222222222222222, \"#7201a8\"], [0.3333333333333333, \"#9c179e\"], [0.4444444444444444, \"#bd3786\"], [0.5555555555555556, \"#d8576b\"], [0.6666666666666666, \"#ed7953\"], [0.7777777777777778, \"#fb9f3a\"], [0.8888888888888888, \"#fdca26\"], [1.0, \"#f0f921\"]], \"sequentialminus\": [[0.0, \"#0d0887\"], [0.1111111111111111, \"#46039f\"], [0.2222222222222222, \"#7201a8\"], [0.3333333333333333, \"#9c179e\"], [0.4444444444444444, \"#bd3786\"], [0.5555555555555556, \"#d8576b\"], [0.6666666666666666, \"#ed7953\"], [0.7777777777777778, \"#fb9f3a\"], [0.8888888888888888, \"#fdca26\"], [1.0, \"#f0f921\"]]}, \"colorway\": [\"#636efa\", \"#EF553B\", \"#00cc96\", \"#ab63fa\", \"#FFA15A\", \"#19d3f3\", \"#FF6692\", \"#B6E880\", \"#FF97FF\", \"#FECB52\"], \"font\": {\"color\": \"#2a3f5f\"}, \"geo\": {\"bgcolor\": \"white\", \"lakecolor\": \"white\", \"landcolor\": \"#E5ECF6\", \"showlakes\": true, \"showland\": true, \"subunitcolor\": \"white\"}, \"hoverlabel\": {\"align\": \"left\"}, \"hovermode\": \"closest\", \"mapbox\": {\"style\": \"light\"}, \"paper_bgcolor\": \"white\", \"plot_bgcolor\": \"#E5ECF6\", \"polar\": {\"angularaxis\": {\"gridcolor\": \"white\", \"linecolor\": \"white\", \"ticks\": \"\"}, \"bgcolor\": \"#E5ECF6\", \"radialaxis\": {\"gridcolor\": \"white\", \"linecolor\": \"white\", \"ticks\": \"\"}}, \"scene\": {\"xaxis\": {\"backgroundcolor\": \"#E5ECF6\", \"gridcolor\": \"white\", \"gridwidth\": 2, \"linecolor\": \"white\", \"showbackground\": true, \"ticks\": \"\", \"zerolinecolor\": \"white\"}, \"yaxis\": {\"backgroundcolor\": \"#E5ECF6\", \"gridcolor\": \"white\", \"gridwidth\": 2, \"linecolor\": \"white\", \"showbackground\": true, \"ticks\": \"\", \"zerolinecolor\": \"white\"}, \"zaxis\": {\"backgroundcolor\": \"#E5ECF6\", \"gridcolor\": \"white\", \"gridwidth\": 2, \"linecolor\": \"white\", \"showbackground\": true, \"ticks\": \"\", \"zerolinecolor\": \"white\"}}, \"shapedefaults\": {\"line\": {\"color\": \"#2a3f5f\"}}, \"ternary\": {\"aaxis\": {\"gridcolor\": \"white\", \"linecolor\": \"white\", \"ticks\": \"\"}, \"baxis\": {\"gridcolor\": \"white\", \"linecolor\": \"white\", \"ticks\": \"\"}, \"bgcolor\": \"#E5ECF6\", \"caxis\": {\"gridcolor\": \"white\", \"linecolor\": \"white\", \"ticks\": \"\"}}, \"title\": {\"x\": 0.05}, \"xaxis\": {\"automargin\": true, \"gridcolor\": \"white\", \"linecolor\": \"white\", \"ticks\": \"\", \"zerolinecolor\": \"white\", \"zerolinewidth\": 2}, \"yaxis\": {\"automargin\": true, \"gridcolor\": \"white\", \"linecolor\": \"white\", \"ticks\": \"\", \"zerolinecolor\": \"white\", \"zerolinewidth\": 2}}}},\n",
              "                        {\"responsive\": true}\n",
              "                    ).then(function(){\n",
              "                            \n",
              "var gd = document.getElementById('9a2aef4e-5d6d-4dd0-a9f1-89eede54503b');\n",
              "var x = new MutationObserver(function (mutations, observer) {{\n",
              "        var display = window.getComputedStyle(gd).display;\n",
              "        if (!display || display === 'none') {{\n",
              "            console.log([gd, 'removed!']);\n",
              "            Plotly.purge(gd);\n",
              "            observer.disconnect();\n",
              "        }}\n",
              "}});\n",
              "\n",
              "// Listen for the removal of the full notebook cells\n",
              "var notebookContainer = gd.closest('#notebook-container');\n",
              "if (notebookContainer) {{\n",
              "    x.observe(notebookContainer, {childList: true});\n",
              "}}\n",
              "\n",
              "// Listen for the clearing of the current output cell\n",
              "var outputEl = gd.closest('.output');\n",
              "if (outputEl) {{\n",
              "    x.observe(outputEl, {childList: true});\n",
              "}}\n",
              "\n",
              "                        })\n",
              "                };\n",
              "                });\n",
              "            </script>\n",
              "        </div>"
            ]
          },
          "metadata": {},
          "output_type": "display_data"
        },
        {
          "name": "stdout",
          "output_type": "stream",
          "text": [
            "          na_sales\n",
            "platform          \n",
            "PS4         108.74\n",
            "XOne         93.12\n",
            "X360         81.66\n",
            "PS3          63.50\n",
            "3DS          38.20\n",
            "          eu_sales\n",
            "platform          \n",
            "PS4         141.09\n",
            "PS3          67.81\n",
            "XOne         51.59\n",
            "X360         42.52\n",
            "3DS          30.96\n",
            "          jp_sales\n",
            "platform          \n",
            "3DS          67.81\n",
            "PS3          23.35\n",
            "PSV          18.59\n",
            "PS4          15.96\n",
            "WiiU         10.88\n"
          ]
        }
      ]
    },
    {
      "cell_type": "markdown",
      "metadata": {
        "id": "aeOQ7xXHKZJ6"
      },
      "source": [
        "В Европе и в Северной Америке ситуация по платформам примерно одинакова. Чего не скажешь про Японию. Если в Америке и Европе самой популярной платформой является PS4, то в Японии эта платформа лишь четвертая, а на первом месте в стране восходящего солнца платформа 3DS, которая на Западе, напротив, занимает 5 место по популярности. Кроме того, в Японии в топ-5 вошла PSV, которая на Западе входит лишь в топ-9."
      ]
    },
    {
      "cell_type": "markdown",
      "metadata": {
        "id": "DRmfTWk-KZJ7"
      },
      "source": [
        "Топ-5 жанров по регионам:"
      ]
    },
    {
      "cell_type": "code",
      "metadata": {
        "scrolled": true,
        "id": "yFhLTGucKZJ7",
        "outputId": "50be8d49-3d1e-4aea-8460-afa36ab1b0b9"
      },
      "source": [
        "na_genre = data.pivot_table(index='genre', values='na_sales', aggfunc='sum').sort_values(by='na_sales', ascending=False)\n",
        "eu_genre = data.pivot_table(index='genre', values='eu_sales', aggfunc='sum').sort_values(by='eu_sales', ascending=False)\n",
        "jp_genre = data.pivot_table(index='genre', values='jp_sales', aggfunc='sum').sort_values(by='jp_sales', ascending=False)\n",
        "print(na_genre.head(5))\n",
        "print(eu_genre.head(5))\n",
        "print(jp_genre.head(5))\n",
        "\n",
        "fig = go.Figure(data=[\n",
        "    go.Bar(name='North America', x=na_genre.index, y=na_genre['na_sales']),\n",
        "    go.Bar(name='Europe', x=eu_genre.index, y=eu_genre['eu_sales']),\n",
        "    go.Bar(name='Japan', x=jp_genre.index, y=jp_genre['jp_sales'])])\n",
        "fig.update_layout(barmode='group')\n",
        "fig.show()"
      ],
      "execution_count": null,
      "outputs": [
        {
          "data": {
            "application/vnd.plotly.v1+json": {
              "config": {
                "plotlyServerURL": "https://plot.ly"
              },
              "data": [
                {
                  "name": "North America",
                  "type": "bar",
                  "x": [
                    "Action",
                    "Shooter",
                    "Sports",
                    "Role-Playing",
                    "Misc",
                    "Platform",
                    "Fighting",
                    "Racing",
                    "Adventure",
                    "Simulation",
                    "Strategy",
                    "Puzzle"
                  ],
                  "y": [
                    126.05,
                    109.74,
                    65.27,
                    46.4,
                    27.49,
                    18.14,
                    15.55,
                    12.96,
                    7.14,
                    4.86,
                    3.28,
                    0.83
                  ]
                },
                {
                  "name": "Europe",
                  "type": "bar",
                  "x": [
                    "Action",
                    "Shooter",
                    "Sports",
                    "Role-Playing",
                    "Racing",
                    "Misc",
                    "Platform",
                    "Simulation",
                    "Fighting",
                    "Adventure",
                    "Strategy",
                    "Puzzle"
                  ],
                  "y": [
                    118.13,
                    87.86,
                    60.52,
                    36.97,
                    20.19,
                    20.04,
                    15.58,
                    10.92,
                    8.55,
                    8.25,
                    4.22,
                    1
                  ]
                },
                {
                  "name": "Japan",
                  "type": "bar",
                  "x": [
                    "Role-Playing",
                    "Action",
                    "Misc",
                    "Fighting",
                    "Shooter",
                    "Adventure",
                    "Sports",
                    "Platform",
                    "Simulation",
                    "Racing",
                    "Strategy",
                    "Puzzle"
                  ],
                  "y": [
                    51.04,
                    40.49,
                    9.2,
                    7.65,
                    6.61,
                    5.82,
                    5.41,
                    4.79,
                    4.52,
                    2.3,
                    1.77,
                    1.18
                  ]
                }
              ],
              "layout": {
                "barmode": "group",
                "template": {
                  "data": {
                    "bar": [
                      {
                        "error_x": {
                          "color": "#2a3f5f"
                        },
                        "error_y": {
                          "color": "#2a3f5f"
                        },
                        "marker": {
                          "line": {
                            "color": "#E5ECF6",
                            "width": 0.5
                          }
                        },
                        "type": "bar"
                      }
                    ],
                    "barpolar": [
                      {
                        "marker": {
                          "line": {
                            "color": "#E5ECF6",
                            "width": 0.5
                          }
                        },
                        "type": "barpolar"
                      }
                    ],
                    "carpet": [
                      {
                        "aaxis": {
                          "endlinecolor": "#2a3f5f",
                          "gridcolor": "white",
                          "linecolor": "white",
                          "minorgridcolor": "white",
                          "startlinecolor": "#2a3f5f"
                        },
                        "baxis": {
                          "endlinecolor": "#2a3f5f",
                          "gridcolor": "white",
                          "linecolor": "white",
                          "minorgridcolor": "white",
                          "startlinecolor": "#2a3f5f"
                        },
                        "type": "carpet"
                      }
                    ],
                    "choropleth": [
                      {
                        "colorbar": {
                          "outlinewidth": 0,
                          "ticks": ""
                        },
                        "type": "choropleth"
                      }
                    ],
                    "contour": [
                      {
                        "colorbar": {
                          "outlinewidth": 0,
                          "ticks": ""
                        },
                        "colorscale": [
                          [
                            0,
                            "#0d0887"
                          ],
                          [
                            0.1111111111,
                            "#46039f"
                          ],
                          [
                            0.2222222222,
                            "#7201a8"
                          ],
                          [
                            0.3333333333,
                            "#9c179e"
                          ],
                          [
                            0.4444444444,
                            "#bd3786"
                          ],
                          [
                            0.5555555556,
                            "#d8576b"
                          ],
                          [
                            0.6666666667,
                            "#ed7953"
                          ],
                          [
                            0.7777777778,
                            "#fb9f3a"
                          ],
                          [
                            0.8888888889,
                            "#fdca26"
                          ],
                          [
                            1,
                            "#f0f921"
                          ]
                        ],
                        "type": "contour"
                      }
                    ],
                    "contourcarpet": [
                      {
                        "colorbar": {
                          "outlinewidth": 0,
                          "ticks": ""
                        },
                        "type": "contourcarpet"
                      }
                    ],
                    "heatmap": [
                      {
                        "colorbar": {
                          "outlinewidth": 0,
                          "ticks": ""
                        },
                        "colorscale": [
                          [
                            0,
                            "#0d0887"
                          ],
                          [
                            0.1111111111,
                            "#46039f"
                          ],
                          [
                            0.2222222222,
                            "#7201a8"
                          ],
                          [
                            0.3333333333,
                            "#9c179e"
                          ],
                          [
                            0.4444444444,
                            "#bd3786"
                          ],
                          [
                            0.5555555556,
                            "#d8576b"
                          ],
                          [
                            0.6666666667,
                            "#ed7953"
                          ],
                          [
                            0.7777777778,
                            "#fb9f3a"
                          ],
                          [
                            0.8888888889,
                            "#fdca26"
                          ],
                          [
                            1,
                            "#f0f921"
                          ]
                        ],
                        "type": "heatmap"
                      }
                    ],
                    "heatmapgl": [
                      {
                        "colorbar": {
                          "outlinewidth": 0,
                          "ticks": ""
                        },
                        "colorscale": [
                          [
                            0,
                            "#0d0887"
                          ],
                          [
                            0.1111111111,
                            "#46039f"
                          ],
                          [
                            0.2222222222,
                            "#7201a8"
                          ],
                          [
                            0.3333333333,
                            "#9c179e"
                          ],
                          [
                            0.4444444444,
                            "#bd3786"
                          ],
                          [
                            0.5555555556,
                            "#d8576b"
                          ],
                          [
                            0.6666666667,
                            "#ed7953"
                          ],
                          [
                            0.7777777778,
                            "#fb9f3a"
                          ],
                          [
                            0.8888888889,
                            "#fdca26"
                          ],
                          [
                            1,
                            "#f0f921"
                          ]
                        ],
                        "type": "heatmapgl"
                      }
                    ],
                    "histogram": [
                      {
                        "marker": {
                          "colorbar": {
                            "outlinewidth": 0,
                            "ticks": ""
                          }
                        },
                        "type": "histogram"
                      }
                    ],
                    "histogram2d": [
                      {
                        "colorbar": {
                          "outlinewidth": 0,
                          "ticks": ""
                        },
                        "colorscale": [
                          [
                            0,
                            "#0d0887"
                          ],
                          [
                            0.1111111111,
                            "#46039f"
                          ],
                          [
                            0.2222222222,
                            "#7201a8"
                          ],
                          [
                            0.3333333333,
                            "#9c179e"
                          ],
                          [
                            0.4444444444,
                            "#bd3786"
                          ],
                          [
                            0.5555555556,
                            "#d8576b"
                          ],
                          [
                            0.6666666667,
                            "#ed7953"
                          ],
                          [
                            0.7777777778,
                            "#fb9f3a"
                          ],
                          [
                            0.8888888889,
                            "#fdca26"
                          ],
                          [
                            1,
                            "#f0f921"
                          ]
                        ],
                        "type": "histogram2d"
                      }
                    ],
                    "histogram2dcontour": [
                      {
                        "colorbar": {
                          "outlinewidth": 0,
                          "ticks": ""
                        },
                        "colorscale": [
                          [
                            0,
                            "#0d0887"
                          ],
                          [
                            0.1111111111,
                            "#46039f"
                          ],
                          [
                            0.2222222222,
                            "#7201a8"
                          ],
                          [
                            0.3333333333,
                            "#9c179e"
                          ],
                          [
                            0.4444444444,
                            "#bd3786"
                          ],
                          [
                            0.5555555556,
                            "#d8576b"
                          ],
                          [
                            0.6666666667,
                            "#ed7953"
                          ],
                          [
                            0.7777777778,
                            "#fb9f3a"
                          ],
                          [
                            0.8888888889,
                            "#fdca26"
                          ],
                          [
                            1,
                            "#f0f921"
                          ]
                        ],
                        "type": "histogram2dcontour"
                      }
                    ],
                    "mesh3d": [
                      {
                        "colorbar": {
                          "outlinewidth": 0,
                          "ticks": ""
                        },
                        "type": "mesh3d"
                      }
                    ],
                    "parcoords": [
                      {
                        "line": {
                          "colorbar": {
                            "outlinewidth": 0,
                            "ticks": ""
                          }
                        },
                        "type": "parcoords"
                      }
                    ],
                    "scatter": [
                      {
                        "marker": {
                          "colorbar": {
                            "outlinewidth": 0,
                            "ticks": ""
                          }
                        },
                        "type": "scatter"
                      }
                    ],
                    "scatter3d": [
                      {
                        "line": {
                          "colorbar": {
                            "outlinewidth": 0,
                            "ticks": ""
                          }
                        },
                        "marker": {
                          "colorbar": {
                            "outlinewidth": 0,
                            "ticks": ""
                          }
                        },
                        "type": "scatter3d"
                      }
                    ],
                    "scattercarpet": [
                      {
                        "marker": {
                          "colorbar": {
                            "outlinewidth": 0,
                            "ticks": ""
                          }
                        },
                        "type": "scattercarpet"
                      }
                    ],
                    "scattergeo": [
                      {
                        "marker": {
                          "colorbar": {
                            "outlinewidth": 0,
                            "ticks": ""
                          }
                        },
                        "type": "scattergeo"
                      }
                    ],
                    "scattergl": [
                      {
                        "marker": {
                          "colorbar": {
                            "outlinewidth": 0,
                            "ticks": ""
                          }
                        },
                        "type": "scattergl"
                      }
                    ],
                    "scattermapbox": [
                      {
                        "marker": {
                          "colorbar": {
                            "outlinewidth": 0,
                            "ticks": ""
                          }
                        },
                        "type": "scattermapbox"
                      }
                    ],
                    "scatterpolar": [
                      {
                        "marker": {
                          "colorbar": {
                            "outlinewidth": 0,
                            "ticks": ""
                          }
                        },
                        "type": "scatterpolar"
                      }
                    ],
                    "scatterpolargl": [
                      {
                        "marker": {
                          "colorbar": {
                            "outlinewidth": 0,
                            "ticks": ""
                          }
                        },
                        "type": "scatterpolargl"
                      }
                    ],
                    "scatterternary": [
                      {
                        "marker": {
                          "colorbar": {
                            "outlinewidth": 0,
                            "ticks": ""
                          }
                        },
                        "type": "scatterternary"
                      }
                    ],
                    "surface": [
                      {
                        "colorbar": {
                          "outlinewidth": 0,
                          "ticks": ""
                        },
                        "colorscale": [
                          [
                            0,
                            "#0d0887"
                          ],
                          [
                            0.1111111111,
                            "#46039f"
                          ],
                          [
                            0.2222222222,
                            "#7201a8"
                          ],
                          [
                            0.3333333333,
                            "#9c179e"
                          ],
                          [
                            0.4444444444,
                            "#bd3786"
                          ],
                          [
                            0.5555555556,
                            "#d8576b"
                          ],
                          [
                            0.6666666667,
                            "#ed7953"
                          ],
                          [
                            0.7777777778,
                            "#fb9f3a"
                          ],
                          [
                            0.8888888889,
                            "#fdca26"
                          ],
                          [
                            1,
                            "#f0f921"
                          ]
                        ],
                        "type": "surface"
                      }
                    ],
                    "table": [
                      {
                        "cells": {
                          "fill": {
                            "color": "#EBF0F8"
                          },
                          "line": {
                            "color": "white"
                          }
                        },
                        "header": {
                          "fill": {
                            "color": "#C8D4E3"
                          },
                          "line": {
                            "color": "white"
                          }
                        },
                        "type": "table"
                      }
                    ]
                  },
                  "layout": {
                    "annotationdefaults": {
                      "arrowcolor": "#2a3f5f",
                      "arrowhead": 0,
                      "arrowwidth": 1
                    },
                    "colorscale": {
                      "diverging": [
                        [
                          0,
                          "#8e0152"
                        ],
                        [
                          0.1,
                          "#c51b7d"
                        ],
                        [
                          0.2,
                          "#de77ae"
                        ],
                        [
                          0.3,
                          "#f1b6da"
                        ],
                        [
                          0.4,
                          "#fde0ef"
                        ],
                        [
                          0.5,
                          "#f7f7f7"
                        ],
                        [
                          0.6,
                          "#e6f5d0"
                        ],
                        [
                          0.7,
                          "#b8e186"
                        ],
                        [
                          0.8,
                          "#7fbc41"
                        ],
                        [
                          0.9,
                          "#4d9221"
                        ],
                        [
                          1,
                          "#276419"
                        ]
                      ],
                      "sequential": [
                        [
                          0,
                          "#0d0887"
                        ],
                        [
                          0.1111111111,
                          "#46039f"
                        ],
                        [
                          0.2222222222,
                          "#7201a8"
                        ],
                        [
                          0.3333333333,
                          "#9c179e"
                        ],
                        [
                          0.4444444444,
                          "#bd3786"
                        ],
                        [
                          0.5555555556,
                          "#d8576b"
                        ],
                        [
                          0.6666666667,
                          "#ed7953"
                        ],
                        [
                          0.7777777778,
                          "#fb9f3a"
                        ],
                        [
                          0.8888888889,
                          "#fdca26"
                        ],
                        [
                          1,
                          "#f0f921"
                        ]
                      ],
                      "sequentialminus": [
                        [
                          0,
                          "#0d0887"
                        ],
                        [
                          0.1111111111,
                          "#46039f"
                        ],
                        [
                          0.2222222222,
                          "#7201a8"
                        ],
                        [
                          0.3333333333,
                          "#9c179e"
                        ],
                        [
                          0.4444444444,
                          "#bd3786"
                        ],
                        [
                          0.5555555556,
                          "#d8576b"
                        ],
                        [
                          0.6666666667,
                          "#ed7953"
                        ],
                        [
                          0.7777777778,
                          "#fb9f3a"
                        ],
                        [
                          0.8888888889,
                          "#fdca26"
                        ],
                        [
                          1,
                          "#f0f921"
                        ]
                      ]
                    },
                    "colorway": [
                      "#636efa",
                      "#EF553B",
                      "#00cc96",
                      "#ab63fa",
                      "#FFA15A",
                      "#19d3f3",
                      "#FF6692",
                      "#B6E880",
                      "#FF97FF",
                      "#FECB52"
                    ],
                    "font": {
                      "color": "#2a3f5f"
                    },
                    "geo": {
                      "bgcolor": "white",
                      "lakecolor": "white",
                      "landcolor": "#E5ECF6",
                      "showlakes": true,
                      "showland": true,
                      "subunitcolor": "white"
                    },
                    "hoverlabel": {
                      "align": "left"
                    },
                    "hovermode": "closest",
                    "mapbox": {
                      "style": "light"
                    },
                    "paper_bgcolor": "white",
                    "plot_bgcolor": "#E5ECF6",
                    "polar": {
                      "angularaxis": {
                        "gridcolor": "white",
                        "linecolor": "white",
                        "ticks": ""
                      },
                      "bgcolor": "#E5ECF6",
                      "radialaxis": {
                        "gridcolor": "white",
                        "linecolor": "white",
                        "ticks": ""
                      }
                    },
                    "scene": {
                      "xaxis": {
                        "backgroundcolor": "#E5ECF6",
                        "gridcolor": "white",
                        "gridwidth": 2,
                        "linecolor": "white",
                        "showbackground": true,
                        "ticks": "",
                        "zerolinecolor": "white"
                      },
                      "yaxis": {
                        "backgroundcolor": "#E5ECF6",
                        "gridcolor": "white",
                        "gridwidth": 2,
                        "linecolor": "white",
                        "showbackground": true,
                        "ticks": "",
                        "zerolinecolor": "white"
                      },
                      "zaxis": {
                        "backgroundcolor": "#E5ECF6",
                        "gridcolor": "white",
                        "gridwidth": 2,
                        "linecolor": "white",
                        "showbackground": true,
                        "ticks": "",
                        "zerolinecolor": "white"
                      }
                    },
                    "shapedefaults": {
                      "line": {
                        "color": "#2a3f5f"
                      }
                    },
                    "ternary": {
                      "aaxis": {
                        "gridcolor": "white",
                        "linecolor": "white",
                        "ticks": ""
                      },
                      "baxis": {
                        "gridcolor": "white",
                        "linecolor": "white",
                        "ticks": ""
                      },
                      "bgcolor": "#E5ECF6",
                      "caxis": {
                        "gridcolor": "white",
                        "linecolor": "white",
                        "ticks": ""
                      }
                    },
                    "title": {
                      "x": 0.05
                    },
                    "xaxis": {
                      "automargin": true,
                      "gridcolor": "white",
                      "linecolor": "white",
                      "ticks": "",
                      "zerolinecolor": "white",
                      "zerolinewidth": 2
                    },
                    "yaxis": {
                      "automargin": true,
                      "gridcolor": "white",
                      "linecolor": "white",
                      "ticks": "",
                      "zerolinecolor": "white",
                      "zerolinewidth": 2
                    }
                  }
                }
              }
            }
          },
          "metadata": {},
          "output_type": "display_data"
        }
      ]
    },
    {
      "cell_type": "markdown",
      "metadata": {
        "id": "kr_sKMaRKZJ7"
      },
      "source": [
        "И тут Япония отличается от других регионов. Первое место по популярности занимает жанр RPG, чего не скажешь про Американский и Европейский рынок. В этих двух регионах лидирует жанр Action(в Японии на 2 месте), а разница заметна только на 5 месте - в Америке жанр Misc, а в Европе Racing."
      ]
    },
    {
      "cell_type": "markdown",
      "metadata": {
        "id": "BwhrijLjKZJ8"
      },
      "source": [
        "Некоторые значения столбца Rating пропущены, заменим их на unknown."
      ]
    },
    {
      "cell_type": "markdown",
      "metadata": {
        "id": "O6WXIKZRKZJ8"
      },
      "source": [
        "Посмотрим как рейтинг ESRB влияет на продажи в каждом регионе:"
      ]
    },
    {
      "cell_type": "code",
      "metadata": {
        "scrolled": true,
        "id": "JTBvoAfeKZJ8",
        "outputId": "f298f211-3db3-4d2e-8643-4a233afddf02"
      },
      "source": [
        "data['rating'].fillna('unknown', inplace=True)\n",
        "na_rating = (data.pivot_table(index='rating', values='na_sales', aggfunc='sum').sort_values('na_sales', ascending=False))\n",
        "eu_rating = (data.pivot_table(index='rating', values='eu_sales', aggfunc='sum').sort_values('eu_sales', ascending=False))\n",
        "jp_rating = (data.pivot_table(index='rating', values='jp_sales', aggfunc='sum').sort_values('jp_sales', ascending=False))\n",
        "print(na_rating)\n",
        "print(eu_rating)\n",
        "print(jp_rating)\n",
        "\n",
        "fig = go.Figure(data=[\n",
        "    go.Bar(name='North America', x=na_rating.index, y=na_rating['na_sales']),\n",
        "    go.Bar(name='Europe', x=eu_rating.index, y=eu_rating['eu_sales']),\n",
        "    go.Bar(name='Japan', x=jp_rating.index, y=jp_rating['jp_sales'])])\n",
        "fig.update_layout(barmode='group')\n",
        "fig.show()\n"
      ],
      "execution_count": null,
      "outputs": [
        {
          "name": "stdout",
          "output_type": "stream",
          "text": [
            "         na_sales\n",
            "rating           \n",
            "M          165.21\n",
            "unknown     89.42\n",
            "E           79.05\n",
            "E10+        54.24\n",
            "T           49.79\n",
            "         eu_sales\n",
            "rating           \n",
            "M          145.32\n",
            "E           83.36\n",
            "unknown     78.91\n",
            "E10+        42.69\n",
            "T           41.95\n",
            "         jp_sales\n",
            "rating           \n",
            "unknown     85.05\n",
            "T           20.59\n",
            "E           15.14\n",
            "M           14.11\n",
            "E10+         5.89\n"
          ]
        },
        {
          "data": {
            "application/vnd.plotly.v1+json": {
              "config": {
                "plotlyServerURL": "https://plot.ly"
              },
              "data": [
                {
                  "name": "North America",
                  "type": "bar",
                  "x": [
                    "M",
                    "unknown",
                    "E",
                    "E10+",
                    "T"
                  ],
                  "y": [
                    165.21,
                    89.42,
                    79.05,
                    54.24,
                    49.79
                  ]
                },
                {
                  "name": "Europe",
                  "type": "bar",
                  "x": [
                    "M",
                    "E",
                    "unknown",
                    "E10+",
                    "T"
                  ],
                  "y": [
                    145.32,
                    83.36,
                    78.91,
                    42.69,
                    41.95
                  ]
                },
                {
                  "name": "Japan",
                  "type": "bar",
                  "x": [
                    "unknown",
                    "T",
                    "E",
                    "M",
                    "E10+"
                  ],
                  "y": [
                    85.05,
                    20.59,
                    15.14,
                    14.11,
                    5.89
                  ]
                }
              ],
              "layout": {
                "barmode": "group",
                "template": {
                  "data": {
                    "bar": [
                      {
                        "error_x": {
                          "color": "#2a3f5f"
                        },
                        "error_y": {
                          "color": "#2a3f5f"
                        },
                        "marker": {
                          "line": {
                            "color": "#E5ECF6",
                            "width": 0.5
                          }
                        },
                        "type": "bar"
                      }
                    ],
                    "barpolar": [
                      {
                        "marker": {
                          "line": {
                            "color": "#E5ECF6",
                            "width": 0.5
                          }
                        },
                        "type": "barpolar"
                      }
                    ],
                    "carpet": [
                      {
                        "aaxis": {
                          "endlinecolor": "#2a3f5f",
                          "gridcolor": "white",
                          "linecolor": "white",
                          "minorgridcolor": "white",
                          "startlinecolor": "#2a3f5f"
                        },
                        "baxis": {
                          "endlinecolor": "#2a3f5f",
                          "gridcolor": "white",
                          "linecolor": "white",
                          "minorgridcolor": "white",
                          "startlinecolor": "#2a3f5f"
                        },
                        "type": "carpet"
                      }
                    ],
                    "choropleth": [
                      {
                        "colorbar": {
                          "outlinewidth": 0,
                          "ticks": ""
                        },
                        "type": "choropleth"
                      }
                    ],
                    "contour": [
                      {
                        "colorbar": {
                          "outlinewidth": 0,
                          "ticks": ""
                        },
                        "colorscale": [
                          [
                            0,
                            "#0d0887"
                          ],
                          [
                            0.1111111111,
                            "#46039f"
                          ],
                          [
                            0.2222222222,
                            "#7201a8"
                          ],
                          [
                            0.3333333333,
                            "#9c179e"
                          ],
                          [
                            0.4444444444,
                            "#bd3786"
                          ],
                          [
                            0.5555555556,
                            "#d8576b"
                          ],
                          [
                            0.6666666667,
                            "#ed7953"
                          ],
                          [
                            0.7777777778,
                            "#fb9f3a"
                          ],
                          [
                            0.8888888889,
                            "#fdca26"
                          ],
                          [
                            1,
                            "#f0f921"
                          ]
                        ],
                        "type": "contour"
                      }
                    ],
                    "contourcarpet": [
                      {
                        "colorbar": {
                          "outlinewidth": 0,
                          "ticks": ""
                        },
                        "type": "contourcarpet"
                      }
                    ],
                    "heatmap": [
                      {
                        "colorbar": {
                          "outlinewidth": 0,
                          "ticks": ""
                        },
                        "colorscale": [
                          [
                            0,
                            "#0d0887"
                          ],
                          [
                            0.1111111111,
                            "#46039f"
                          ],
                          [
                            0.2222222222,
                            "#7201a8"
                          ],
                          [
                            0.3333333333,
                            "#9c179e"
                          ],
                          [
                            0.4444444444,
                            "#bd3786"
                          ],
                          [
                            0.5555555556,
                            "#d8576b"
                          ],
                          [
                            0.6666666667,
                            "#ed7953"
                          ],
                          [
                            0.7777777778,
                            "#fb9f3a"
                          ],
                          [
                            0.8888888889,
                            "#fdca26"
                          ],
                          [
                            1,
                            "#f0f921"
                          ]
                        ],
                        "type": "heatmap"
                      }
                    ],
                    "heatmapgl": [
                      {
                        "colorbar": {
                          "outlinewidth": 0,
                          "ticks": ""
                        },
                        "colorscale": [
                          [
                            0,
                            "#0d0887"
                          ],
                          [
                            0.1111111111,
                            "#46039f"
                          ],
                          [
                            0.2222222222,
                            "#7201a8"
                          ],
                          [
                            0.3333333333,
                            "#9c179e"
                          ],
                          [
                            0.4444444444,
                            "#bd3786"
                          ],
                          [
                            0.5555555556,
                            "#d8576b"
                          ],
                          [
                            0.6666666667,
                            "#ed7953"
                          ],
                          [
                            0.7777777778,
                            "#fb9f3a"
                          ],
                          [
                            0.8888888889,
                            "#fdca26"
                          ],
                          [
                            1,
                            "#f0f921"
                          ]
                        ],
                        "type": "heatmapgl"
                      }
                    ],
                    "histogram": [
                      {
                        "marker": {
                          "colorbar": {
                            "outlinewidth": 0,
                            "ticks": ""
                          }
                        },
                        "type": "histogram"
                      }
                    ],
                    "histogram2d": [
                      {
                        "colorbar": {
                          "outlinewidth": 0,
                          "ticks": ""
                        },
                        "colorscale": [
                          [
                            0,
                            "#0d0887"
                          ],
                          [
                            0.1111111111,
                            "#46039f"
                          ],
                          [
                            0.2222222222,
                            "#7201a8"
                          ],
                          [
                            0.3333333333,
                            "#9c179e"
                          ],
                          [
                            0.4444444444,
                            "#bd3786"
                          ],
                          [
                            0.5555555556,
                            "#d8576b"
                          ],
                          [
                            0.6666666667,
                            "#ed7953"
                          ],
                          [
                            0.7777777778,
                            "#fb9f3a"
                          ],
                          [
                            0.8888888889,
                            "#fdca26"
                          ],
                          [
                            1,
                            "#f0f921"
                          ]
                        ],
                        "type": "histogram2d"
                      }
                    ],
                    "histogram2dcontour": [
                      {
                        "colorbar": {
                          "outlinewidth": 0,
                          "ticks": ""
                        },
                        "colorscale": [
                          [
                            0,
                            "#0d0887"
                          ],
                          [
                            0.1111111111,
                            "#46039f"
                          ],
                          [
                            0.2222222222,
                            "#7201a8"
                          ],
                          [
                            0.3333333333,
                            "#9c179e"
                          ],
                          [
                            0.4444444444,
                            "#bd3786"
                          ],
                          [
                            0.5555555556,
                            "#d8576b"
                          ],
                          [
                            0.6666666667,
                            "#ed7953"
                          ],
                          [
                            0.7777777778,
                            "#fb9f3a"
                          ],
                          [
                            0.8888888889,
                            "#fdca26"
                          ],
                          [
                            1,
                            "#f0f921"
                          ]
                        ],
                        "type": "histogram2dcontour"
                      }
                    ],
                    "mesh3d": [
                      {
                        "colorbar": {
                          "outlinewidth": 0,
                          "ticks": ""
                        },
                        "type": "mesh3d"
                      }
                    ],
                    "parcoords": [
                      {
                        "line": {
                          "colorbar": {
                            "outlinewidth": 0,
                            "ticks": ""
                          }
                        },
                        "type": "parcoords"
                      }
                    ],
                    "scatter": [
                      {
                        "marker": {
                          "colorbar": {
                            "outlinewidth": 0,
                            "ticks": ""
                          }
                        },
                        "type": "scatter"
                      }
                    ],
                    "scatter3d": [
                      {
                        "line": {
                          "colorbar": {
                            "outlinewidth": 0,
                            "ticks": ""
                          }
                        },
                        "marker": {
                          "colorbar": {
                            "outlinewidth": 0,
                            "ticks": ""
                          }
                        },
                        "type": "scatter3d"
                      }
                    ],
                    "scattercarpet": [
                      {
                        "marker": {
                          "colorbar": {
                            "outlinewidth": 0,
                            "ticks": ""
                          }
                        },
                        "type": "scattercarpet"
                      }
                    ],
                    "scattergeo": [
                      {
                        "marker": {
                          "colorbar": {
                            "outlinewidth": 0,
                            "ticks": ""
                          }
                        },
                        "type": "scattergeo"
                      }
                    ],
                    "scattergl": [
                      {
                        "marker": {
                          "colorbar": {
                            "outlinewidth": 0,
                            "ticks": ""
                          }
                        },
                        "type": "scattergl"
                      }
                    ],
                    "scattermapbox": [
                      {
                        "marker": {
                          "colorbar": {
                            "outlinewidth": 0,
                            "ticks": ""
                          }
                        },
                        "type": "scattermapbox"
                      }
                    ],
                    "scatterpolar": [
                      {
                        "marker": {
                          "colorbar": {
                            "outlinewidth": 0,
                            "ticks": ""
                          }
                        },
                        "type": "scatterpolar"
                      }
                    ],
                    "scatterpolargl": [
                      {
                        "marker": {
                          "colorbar": {
                            "outlinewidth": 0,
                            "ticks": ""
                          }
                        },
                        "type": "scatterpolargl"
                      }
                    ],
                    "scatterternary": [
                      {
                        "marker": {
                          "colorbar": {
                            "outlinewidth": 0,
                            "ticks": ""
                          }
                        },
                        "type": "scatterternary"
                      }
                    ],
                    "surface": [
                      {
                        "colorbar": {
                          "outlinewidth": 0,
                          "ticks": ""
                        },
                        "colorscale": [
                          [
                            0,
                            "#0d0887"
                          ],
                          [
                            0.1111111111,
                            "#46039f"
                          ],
                          [
                            0.2222222222,
                            "#7201a8"
                          ],
                          [
                            0.3333333333,
                            "#9c179e"
                          ],
                          [
                            0.4444444444,
                            "#bd3786"
                          ],
                          [
                            0.5555555556,
                            "#d8576b"
                          ],
                          [
                            0.6666666667,
                            "#ed7953"
                          ],
                          [
                            0.7777777778,
                            "#fb9f3a"
                          ],
                          [
                            0.8888888889,
                            "#fdca26"
                          ],
                          [
                            1,
                            "#f0f921"
                          ]
                        ],
                        "type": "surface"
                      }
                    ],
                    "table": [
                      {
                        "cells": {
                          "fill": {
                            "color": "#EBF0F8"
                          },
                          "line": {
                            "color": "white"
                          }
                        },
                        "header": {
                          "fill": {
                            "color": "#C8D4E3"
                          },
                          "line": {
                            "color": "white"
                          }
                        },
                        "type": "table"
                      }
                    ]
                  },
                  "layout": {
                    "annotationdefaults": {
                      "arrowcolor": "#2a3f5f",
                      "arrowhead": 0,
                      "arrowwidth": 1
                    },
                    "colorscale": {
                      "diverging": [
                        [
                          0,
                          "#8e0152"
                        ],
                        [
                          0.1,
                          "#c51b7d"
                        ],
                        [
                          0.2,
                          "#de77ae"
                        ],
                        [
                          0.3,
                          "#f1b6da"
                        ],
                        [
                          0.4,
                          "#fde0ef"
                        ],
                        [
                          0.5,
                          "#f7f7f7"
                        ],
                        [
                          0.6,
                          "#e6f5d0"
                        ],
                        [
                          0.7,
                          "#b8e186"
                        ],
                        [
                          0.8,
                          "#7fbc41"
                        ],
                        [
                          0.9,
                          "#4d9221"
                        ],
                        [
                          1,
                          "#276419"
                        ]
                      ],
                      "sequential": [
                        [
                          0,
                          "#0d0887"
                        ],
                        [
                          0.1111111111,
                          "#46039f"
                        ],
                        [
                          0.2222222222,
                          "#7201a8"
                        ],
                        [
                          0.3333333333,
                          "#9c179e"
                        ],
                        [
                          0.4444444444,
                          "#bd3786"
                        ],
                        [
                          0.5555555556,
                          "#d8576b"
                        ],
                        [
                          0.6666666667,
                          "#ed7953"
                        ],
                        [
                          0.7777777778,
                          "#fb9f3a"
                        ],
                        [
                          0.8888888889,
                          "#fdca26"
                        ],
                        [
                          1,
                          "#f0f921"
                        ]
                      ],
                      "sequentialminus": [
                        [
                          0,
                          "#0d0887"
                        ],
                        [
                          0.1111111111,
                          "#46039f"
                        ],
                        [
                          0.2222222222,
                          "#7201a8"
                        ],
                        [
                          0.3333333333,
                          "#9c179e"
                        ],
                        [
                          0.4444444444,
                          "#bd3786"
                        ],
                        [
                          0.5555555556,
                          "#d8576b"
                        ],
                        [
                          0.6666666667,
                          "#ed7953"
                        ],
                        [
                          0.7777777778,
                          "#fb9f3a"
                        ],
                        [
                          0.8888888889,
                          "#fdca26"
                        ],
                        [
                          1,
                          "#f0f921"
                        ]
                      ]
                    },
                    "colorway": [
                      "#636efa",
                      "#EF553B",
                      "#00cc96",
                      "#ab63fa",
                      "#FFA15A",
                      "#19d3f3",
                      "#FF6692",
                      "#B6E880",
                      "#FF97FF",
                      "#FECB52"
                    ],
                    "font": {
                      "color": "#2a3f5f"
                    },
                    "geo": {
                      "bgcolor": "white",
                      "lakecolor": "white",
                      "landcolor": "#E5ECF6",
                      "showlakes": true,
                      "showland": true,
                      "subunitcolor": "white"
                    },
                    "hoverlabel": {
                      "align": "left"
                    },
                    "hovermode": "closest",
                    "mapbox": {
                      "style": "light"
                    },
                    "paper_bgcolor": "white",
                    "plot_bgcolor": "#E5ECF6",
                    "polar": {
                      "angularaxis": {
                        "gridcolor": "white",
                        "linecolor": "white",
                        "ticks": ""
                      },
                      "bgcolor": "#E5ECF6",
                      "radialaxis": {
                        "gridcolor": "white",
                        "linecolor": "white",
                        "ticks": ""
                      }
                    },
                    "scene": {
                      "xaxis": {
                        "backgroundcolor": "#E5ECF6",
                        "gridcolor": "white",
                        "gridwidth": 2,
                        "linecolor": "white",
                        "showbackground": true,
                        "ticks": "",
                        "zerolinecolor": "white"
                      },
                      "yaxis": {
                        "backgroundcolor": "#E5ECF6",
                        "gridcolor": "white",
                        "gridwidth": 2,
                        "linecolor": "white",
                        "showbackground": true,
                        "ticks": "",
                        "zerolinecolor": "white"
                      },
                      "zaxis": {
                        "backgroundcolor": "#E5ECF6",
                        "gridcolor": "white",
                        "gridwidth": 2,
                        "linecolor": "white",
                        "showbackground": true,
                        "ticks": "",
                        "zerolinecolor": "white"
                      }
                    },
                    "shapedefaults": {
                      "line": {
                        "color": "#2a3f5f"
                      }
                    },
                    "ternary": {
                      "aaxis": {
                        "gridcolor": "white",
                        "linecolor": "white",
                        "ticks": ""
                      },
                      "baxis": {
                        "gridcolor": "white",
                        "linecolor": "white",
                        "ticks": ""
                      },
                      "bgcolor": "#E5ECF6",
                      "caxis": {
                        "gridcolor": "white",
                        "linecolor": "white",
                        "ticks": ""
                      }
                    },
                    "title": {
                      "x": 0.05
                    },
                    "xaxis": {
                      "automargin": true,
                      "gridcolor": "white",
                      "linecolor": "white",
                      "ticks": "",
                      "zerolinecolor": "white",
                      "zerolinewidth": 2
                    },
                    "yaxis": {
                      "automargin": true,
                      "gridcolor": "white",
                      "linecolor": "white",
                      "ticks": "",
                      "zerolinecolor": "white",
                      "zerolinewidth": 2
                    }
                  }
                }
              }
            },
            "text/html": [
              "<div>\n",
              "        \n",
              "        \n",
              "            <div id=\"a7303ca8-8a6d-41fa-ae01-b6a92c65b89e\" class=\"plotly-graph-div\" style=\"height:525px; width:100%;\"></div>\n",
              "            <script type=\"text/javascript\">\n",
              "                require([\"plotly\"], function(Plotly) {\n",
              "                    window.PLOTLYENV=window.PLOTLYENV || {};\n",
              "                    \n",
              "                if (document.getElementById(\"a7303ca8-8a6d-41fa-ae01-b6a92c65b89e\")) {\n",
              "                    Plotly.newPlot(\n",
              "                        'a7303ca8-8a6d-41fa-ae01-b6a92c65b89e',\n",
              "                        [{\"name\": \"North America\", \"type\": \"bar\", \"x\": [\"M\", \"unknown\", \"E\", \"E10+\", \"T\"], \"y\": [165.21000000000006, 89.41999999999994, 79.05000000000007, 54.23999999999999, 49.79000000000001]}, {\"name\": \"Europe\", \"type\": \"bar\", \"x\": [\"M\", \"E\", \"unknown\", \"E10+\", \"T\"], \"y\": [145.3200000000002, 83.3600000000002, 78.91000000000017, 42.69000000000003, 41.94999999999996]}, {\"name\": \"Japan\", \"type\": \"bar\", \"x\": [\"unknown\", \"T\", \"E\", \"M\", \"E10+\"], \"y\": [85.05000000000015, 20.58999999999999, 15.139999999999992, 14.10999999999998, 5.889999999999994]}],\n",
              "                        {\"barmode\": \"group\", \"template\": {\"data\": {\"bar\": [{\"error_x\": {\"color\": \"#2a3f5f\"}, \"error_y\": {\"color\": \"#2a3f5f\"}, \"marker\": {\"line\": {\"color\": \"#E5ECF6\", \"width\": 0.5}}, \"type\": \"bar\"}], \"barpolar\": [{\"marker\": {\"line\": {\"color\": \"#E5ECF6\", \"width\": 0.5}}, \"type\": \"barpolar\"}], \"carpet\": [{\"aaxis\": {\"endlinecolor\": \"#2a3f5f\", \"gridcolor\": \"white\", \"linecolor\": \"white\", \"minorgridcolor\": \"white\", \"startlinecolor\": \"#2a3f5f\"}, \"baxis\": {\"endlinecolor\": \"#2a3f5f\", \"gridcolor\": \"white\", \"linecolor\": \"white\", \"minorgridcolor\": \"white\", \"startlinecolor\": \"#2a3f5f\"}, \"type\": \"carpet\"}], \"choropleth\": [{\"colorbar\": {\"outlinewidth\": 0, \"ticks\": \"\"}, \"type\": \"choropleth\"}], \"contour\": [{\"colorbar\": {\"outlinewidth\": 0, \"ticks\": \"\"}, \"colorscale\": [[0.0, \"#0d0887\"], [0.1111111111111111, \"#46039f\"], [0.2222222222222222, \"#7201a8\"], [0.3333333333333333, \"#9c179e\"], [0.4444444444444444, \"#bd3786\"], [0.5555555555555556, \"#d8576b\"], [0.6666666666666666, \"#ed7953\"], [0.7777777777777778, \"#fb9f3a\"], [0.8888888888888888, \"#fdca26\"], [1.0, \"#f0f921\"]], \"type\": \"contour\"}], \"contourcarpet\": [{\"colorbar\": {\"outlinewidth\": 0, \"ticks\": \"\"}, \"type\": \"contourcarpet\"}], \"heatmap\": [{\"colorbar\": {\"outlinewidth\": 0, \"ticks\": \"\"}, \"colorscale\": [[0.0, \"#0d0887\"], [0.1111111111111111, \"#46039f\"], [0.2222222222222222, \"#7201a8\"], [0.3333333333333333, \"#9c179e\"], [0.4444444444444444, \"#bd3786\"], [0.5555555555555556, \"#d8576b\"], [0.6666666666666666, \"#ed7953\"], [0.7777777777777778, \"#fb9f3a\"], [0.8888888888888888, \"#fdca26\"], [1.0, \"#f0f921\"]], \"type\": \"heatmap\"}], \"heatmapgl\": [{\"colorbar\": {\"outlinewidth\": 0, \"ticks\": \"\"}, \"colorscale\": [[0.0, \"#0d0887\"], [0.1111111111111111, \"#46039f\"], [0.2222222222222222, \"#7201a8\"], [0.3333333333333333, \"#9c179e\"], [0.4444444444444444, \"#bd3786\"], [0.5555555555555556, \"#d8576b\"], [0.6666666666666666, \"#ed7953\"], [0.7777777777777778, \"#fb9f3a\"], [0.8888888888888888, \"#fdca26\"], [1.0, \"#f0f921\"]], \"type\": \"heatmapgl\"}], \"histogram\": [{\"marker\": {\"colorbar\": {\"outlinewidth\": 0, \"ticks\": \"\"}}, \"type\": \"histogram\"}], \"histogram2d\": [{\"colorbar\": {\"outlinewidth\": 0, \"ticks\": \"\"}, \"colorscale\": [[0.0, \"#0d0887\"], [0.1111111111111111, \"#46039f\"], [0.2222222222222222, \"#7201a8\"], [0.3333333333333333, \"#9c179e\"], [0.4444444444444444, \"#bd3786\"], [0.5555555555555556, \"#d8576b\"], [0.6666666666666666, \"#ed7953\"], [0.7777777777777778, \"#fb9f3a\"], [0.8888888888888888, \"#fdca26\"], [1.0, \"#f0f921\"]], \"type\": \"histogram2d\"}], \"histogram2dcontour\": [{\"colorbar\": {\"outlinewidth\": 0, \"ticks\": \"\"}, \"colorscale\": [[0.0, \"#0d0887\"], [0.1111111111111111, \"#46039f\"], [0.2222222222222222, \"#7201a8\"], [0.3333333333333333, \"#9c179e\"], [0.4444444444444444, \"#bd3786\"], [0.5555555555555556, \"#d8576b\"], [0.6666666666666666, \"#ed7953\"], [0.7777777777777778, \"#fb9f3a\"], [0.8888888888888888, \"#fdca26\"], [1.0, \"#f0f921\"]], \"type\": \"histogram2dcontour\"}], \"mesh3d\": [{\"colorbar\": {\"outlinewidth\": 0, \"ticks\": \"\"}, \"type\": \"mesh3d\"}], \"parcoords\": [{\"line\": {\"colorbar\": {\"outlinewidth\": 0, \"ticks\": \"\"}}, \"type\": \"parcoords\"}], \"scatter\": [{\"marker\": {\"colorbar\": {\"outlinewidth\": 0, \"ticks\": \"\"}}, \"type\": \"scatter\"}], \"scatter3d\": [{\"line\": {\"colorbar\": {\"outlinewidth\": 0, \"ticks\": \"\"}}, \"marker\": {\"colorbar\": {\"outlinewidth\": 0, \"ticks\": \"\"}}, \"type\": \"scatter3d\"}], \"scattercarpet\": [{\"marker\": {\"colorbar\": {\"outlinewidth\": 0, \"ticks\": \"\"}}, \"type\": \"scattercarpet\"}], \"scattergeo\": [{\"marker\": {\"colorbar\": {\"outlinewidth\": 0, \"ticks\": \"\"}}, \"type\": \"scattergeo\"}], \"scattergl\": [{\"marker\": {\"colorbar\": {\"outlinewidth\": 0, \"ticks\": \"\"}}, \"type\": \"scattergl\"}], \"scattermapbox\": [{\"marker\": {\"colorbar\": {\"outlinewidth\": 0, \"ticks\": \"\"}}, \"type\": \"scattermapbox\"}], \"scatterpolar\": [{\"marker\": {\"colorbar\": {\"outlinewidth\": 0, \"ticks\": \"\"}}, \"type\": \"scatterpolar\"}], \"scatterpolargl\": [{\"marker\": {\"colorbar\": {\"outlinewidth\": 0, \"ticks\": \"\"}}, \"type\": \"scatterpolargl\"}], \"scatterternary\": [{\"marker\": {\"colorbar\": {\"outlinewidth\": 0, \"ticks\": \"\"}}, \"type\": \"scatterternary\"}], \"surface\": [{\"colorbar\": {\"outlinewidth\": 0, \"ticks\": \"\"}, \"colorscale\": [[0.0, \"#0d0887\"], [0.1111111111111111, \"#46039f\"], [0.2222222222222222, \"#7201a8\"], [0.3333333333333333, \"#9c179e\"], [0.4444444444444444, \"#bd3786\"], [0.5555555555555556, \"#d8576b\"], [0.6666666666666666, \"#ed7953\"], [0.7777777777777778, \"#fb9f3a\"], [0.8888888888888888, \"#fdca26\"], [1.0, \"#f0f921\"]], \"type\": \"surface\"}], \"table\": [{\"cells\": {\"fill\": {\"color\": \"#EBF0F8\"}, \"line\": {\"color\": \"white\"}}, \"header\": {\"fill\": {\"color\": \"#C8D4E3\"}, \"line\": {\"color\": \"white\"}}, \"type\": \"table\"}]}, \"layout\": {\"annotationdefaults\": {\"arrowcolor\": \"#2a3f5f\", \"arrowhead\": 0, \"arrowwidth\": 1}, \"colorscale\": {\"diverging\": [[0, \"#8e0152\"], [0.1, \"#c51b7d\"], [0.2, \"#de77ae\"], [0.3, \"#f1b6da\"], [0.4, \"#fde0ef\"], [0.5, \"#f7f7f7\"], [0.6, \"#e6f5d0\"], [0.7, \"#b8e186\"], [0.8, \"#7fbc41\"], [0.9, \"#4d9221\"], [1, \"#276419\"]], \"sequential\": [[0.0, \"#0d0887\"], [0.1111111111111111, \"#46039f\"], [0.2222222222222222, \"#7201a8\"], [0.3333333333333333, \"#9c179e\"], [0.4444444444444444, \"#bd3786\"], [0.5555555555555556, \"#d8576b\"], [0.6666666666666666, \"#ed7953\"], [0.7777777777777778, \"#fb9f3a\"], [0.8888888888888888, \"#fdca26\"], [1.0, \"#f0f921\"]], \"sequentialminus\": [[0.0, \"#0d0887\"], [0.1111111111111111, \"#46039f\"], [0.2222222222222222, \"#7201a8\"], [0.3333333333333333, \"#9c179e\"], [0.4444444444444444, \"#bd3786\"], [0.5555555555555556, \"#d8576b\"], [0.6666666666666666, \"#ed7953\"], [0.7777777777777778, \"#fb9f3a\"], [0.8888888888888888, \"#fdca26\"], [1.0, \"#f0f921\"]]}, \"colorway\": [\"#636efa\", \"#EF553B\", \"#00cc96\", \"#ab63fa\", \"#FFA15A\", \"#19d3f3\", \"#FF6692\", \"#B6E880\", \"#FF97FF\", \"#FECB52\"], \"font\": {\"color\": \"#2a3f5f\"}, \"geo\": {\"bgcolor\": \"white\", \"lakecolor\": \"white\", \"landcolor\": \"#E5ECF6\", \"showlakes\": true, \"showland\": true, \"subunitcolor\": \"white\"}, \"hoverlabel\": {\"align\": \"left\"}, \"hovermode\": \"closest\", \"mapbox\": {\"style\": \"light\"}, \"paper_bgcolor\": \"white\", \"plot_bgcolor\": \"#E5ECF6\", \"polar\": {\"angularaxis\": {\"gridcolor\": \"white\", \"linecolor\": \"white\", \"ticks\": \"\"}, \"bgcolor\": \"#E5ECF6\", \"radialaxis\": {\"gridcolor\": \"white\", \"linecolor\": \"white\", \"ticks\": \"\"}}, \"scene\": {\"xaxis\": {\"backgroundcolor\": \"#E5ECF6\", \"gridcolor\": \"white\", \"gridwidth\": 2, \"linecolor\": \"white\", \"showbackground\": true, \"ticks\": \"\", \"zerolinecolor\": \"white\"}, \"yaxis\": {\"backgroundcolor\": \"#E5ECF6\", \"gridcolor\": \"white\", \"gridwidth\": 2, \"linecolor\": \"white\", \"showbackground\": true, \"ticks\": \"\", \"zerolinecolor\": \"white\"}, \"zaxis\": {\"backgroundcolor\": \"#E5ECF6\", \"gridcolor\": \"white\", \"gridwidth\": 2, \"linecolor\": \"white\", \"showbackground\": true, \"ticks\": \"\", \"zerolinecolor\": \"white\"}}, \"shapedefaults\": {\"line\": {\"color\": \"#2a3f5f\"}}, \"ternary\": {\"aaxis\": {\"gridcolor\": \"white\", \"linecolor\": \"white\", \"ticks\": \"\"}, \"baxis\": {\"gridcolor\": \"white\", \"linecolor\": \"white\", \"ticks\": \"\"}, \"bgcolor\": \"#E5ECF6\", \"caxis\": {\"gridcolor\": \"white\", \"linecolor\": \"white\", \"ticks\": \"\"}}, \"title\": {\"x\": 0.05}, \"xaxis\": {\"automargin\": true, \"gridcolor\": \"white\", \"linecolor\": \"white\", \"ticks\": \"\", \"zerolinecolor\": \"white\", \"zerolinewidth\": 2}, \"yaxis\": {\"automargin\": true, \"gridcolor\": \"white\", \"linecolor\": \"white\", \"ticks\": \"\", \"zerolinecolor\": \"white\", \"zerolinewidth\": 2}}}},\n",
              "                        {\"responsive\": true}\n",
              "                    ).then(function(){\n",
              "                            \n",
              "var gd = document.getElementById('a7303ca8-8a6d-41fa-ae01-b6a92c65b89e');\n",
              "var x = new MutationObserver(function (mutations, observer) {{\n",
              "        var display = window.getComputedStyle(gd).display;\n",
              "        if (!display || display === 'none') {{\n",
              "            console.log([gd, 'removed!']);\n",
              "            Plotly.purge(gd);\n",
              "            observer.disconnect();\n",
              "        }}\n",
              "}});\n",
              "\n",
              "// Listen for the removal of the full notebook cells\n",
              "var notebookContainer = gd.closest('#notebook-container');\n",
              "if (notebookContainer) {{\n",
              "    x.observe(notebookContainer, {childList: true});\n",
              "}}\n",
              "\n",
              "// Listen for the clearing of the current output cell\n",
              "var outputEl = gd.closest('.output');\n",
              "if (outputEl) {{\n",
              "    x.observe(outputEl, {childList: true});\n",
              "}}\n",
              "\n",
              "                        })\n",
              "                };\n",
              "                });\n",
              "            </script>\n",
              "        </div>"
            ]
          },
          "metadata": {},
          "output_type": "display_data"
        }
      ]
    },
    {
      "cell_type": "markdown",
      "metadata": {
        "id": "xODdAadeKZJ8"
      },
      "source": [
        "Неизвестных значений получилось достаточно много: в среднем по 84,46$ млн в каждом регионе. Но восстановить их мы никак не можем. Придется составлять общую картину руководствуясь только известными значениями. Запад и Восток вновь отличаются по популярности рейтингов: на Западе популярностью пользуются игры для лиц старше 17 лет, тогда как на Востоке первое место по продажам принадлежит играм для подростков (от 13 лет и старше).  Интересно, что взрослые игры в Японии лишь на третьем месте по популярности. Второе местро и на Западе, и на Востоке принадлежит рейтингу E."
      ]
    },
    {
      "cell_type": "markdown",
      "metadata": {
        "id": "VS4htvfCKZJ9"
      },
      "source": [
        "Можно сделать вывод, что __*японский рынок игр отличается от европейского и северо-американского.*__"
      ]
    },
    {
      "cell_type": "markdown",
      "metadata": {
        "id": "r7WX3zXmKZJ9"
      },
      "source": [
        "Посмотрим на пользовательские рейтинги."
      ]
    },
    {
      "cell_type": "code",
      "metadata": {
        "scrolled": true,
        "id": "_DjwMR3UKZJ9",
        "outputId": "ae73b9ea-e367-4647-eff7-fb8ca02370d1"
      },
      "source": [
        "all_genres = data['genre'].unique()\n",
        "mean=[]\n",
        "var=[]\n",
        "std=[]\n",
        "for row in all_genres:\n",
        "    print('--------------------------------------------------------'+str(row)+'------------------------------------------')\n",
        "    user_score_by_year = data[(data['genre']==row) & (data['user_score']!=-1) & (data['critic_score']!=-1)].pivot_table(index='year_of_release', values='user_score', aggfunc = 'mean')\n",
        "    mean.append(user_score_by_year['user_score'].mean())\n",
        "    var.append(np.var(user_score_by_year['user_score']))\n",
        "    std.append(np.std(user_score_by_year['user_score']))\n",
        "    user_score_by_year.boxplot()\n",
        "    plt.show()\n",
        "pd.DataFrame(data = [mean, var, std], columns=all_genres, index=['средний user_rating за все время', 'дисперсия за все время', 'отклонение'])"
      ],
      "execution_count": null,
      "outputs": [
        {
          "data": {
            "image/png": "[encoded data removed]"
          },
          "metadata": {},
          "output_type": "display_data"
        },
        {
          "data": {
            "image/png": "[encoded data removed]"
          },
          "metadata": {},
          "output_type": "display_data"
        },
        {
          "data": {
            "image/png": "[encoded data removed]"
          },
          "metadata": {},
          "output_type": "display_data"
        },
        {
          "data": {
            "image/png": "[encoded data removed]"
          },
          "metadata": {},
          "output_type": "display_data"
        },
        {
          "data": {
            "image/png": "[encoded data removed]"
          },
          "metadata": {},
          "output_type": "display_data"
        },
        {
          "data": {
            "image/png": "[encoded data removed]"
          },
          "metadata": {},
          "output_type": "display_data"
        },
        {
          "data": {
            "image/png": "[encoded data removed]"
          },
          "metadata": {},
          "output_type": "display_data"
        },
        {
          "data": {
            "image/png": "[encoded data removed]"
          },
          "metadata": {},
          "output_type": "display_data"
        },
        {
          "data": {
            "image/png": "[encoded data removed]"
          },
          "metadata": {},
          "output_type": "display_data"
        },
        {
          "data": {
            "image/png": "[encoded data removed]"
          },
          "metadata": {},
          "output_type": "display_data"
        },
        {
          "data": {
            "image/png": "[encoded data removed]"
          },
          "metadata": {},
          "output_type": "display_data"
        },
        {
          "data": {
            "image/png": "[encoded data removed]"
          },
          "metadata": {},
          "output_type": "display_data"
        },
        {
          "data": {},
          "execution_count": 28,
          "metadata": {},
          "output_type": "execute_result"
        }
      ]
    },
    {
      "cell_type": "markdown",
      "metadata": {
        "id": "j0PZcOM6KZJ-"
      },
      "source": [
        "И на рейтинги критиков:"
      ]
    },
    {
      "cell_type": "code",
      "metadata": {
        "id": "1i4sTCqGKZJ-",
        "outputId": "1131ab9b-e418-40b3-8f2d-45ff380eab6e"
      },
      "source": [
        "mean=[]\n",
        "var=[]\n",
        "std=[]\n",
        "for row in all_genres:\n",
        "    print('--------------------------------------------------------'+str(row)+'------------------------------------------')\n",
        "    critic_score_by_year = data[(data['genre']==row) & (data['user_score']!=-1) & (data['critic_score']!=-1)].pivot_table(index='year_of_release', values='critic_score', aggfunc = 'mean')\n",
        "    mean.append(critic_score_by_year['critic_score'].mean())\n",
        "    var.append(np.var(critic_score_by_year['critic_score']))\n",
        "    std.append(np.std(critic_score_by_year['critic_score']))\n",
        "    critic_score_by_year.boxplot()\n",
        "    plt.show()\n",
        "pd.DataFrame(data = [mean, var, std], columns=all_genres, index=['средний critic_score за все время', 'дисперсия за все время', 'отклонение'])"
      ],
      "execution_count": null,
      "outputs": [
        {
          "data": {
            "image/png": "[encoded data removed]"
          },
          "metadata": {},
          "output_type": "display_data"
        },
        {
          "data": {
            "image/png": "[encoded data removed]"
          },
          "metadata": {},
          "output_type": "display_data"
        },
        {
          "data": {
            "image/png": "[encoded data removed]"
          },
          "metadata": {},
          "output_type": "display_data"
        },
        {
          "data": {
            "image/png": "[encoded data removed]"
          },
          "metadata": {},
          "output_type": "display_data"
        },
        {
          "data": {
            "image/png": "[encoded data removed]"
          },
          "metadata": {},
          "output_type": "display_data"
        },
        {
          "data": {
            "image/png": "[encoded data removed]"
          },
          "metadata": {},
          "output_type": "display_data"
        },
        {
          "data": {
            "image/png": "[encoded data removed]"
          },
          "metadata": {},
          "output_type": "display_data"
        },
        {
          "data": {
            "image/png": "[encoded data removed]"
          },
          "metadata": {},
          "output_type": "display_data"
        },
        {
          "data": {
            "image/png": "[encoded data removed]"
          },
          "metadata": {},
          "output_type": "display_data"
        },
        {
          "data": {
            "image/png": "[encoded data removed]"
          },
          "metadata": {},
          "output_type": "display_data"
        },
        {
          "data": {
            "image/png": "[encoded data removed]"
          },
          "metadata": {},
          "output_type": "display_data"
        },
        {
          "data": {
            "image/png": "[encoded data removed]"
          },
          "metadata": {},
          "output_type": "display_data"
        },
        {
          "data": {},
          "execution_count": 29,
          "metadata": {},
          "output_type": "execute_result"
        }
      ]
    },
    {
      "cell_type": "markdown",
      "metadata": {
        "id": "ZEbSxIFZKZJ-"
      },
      "source": [
        "Сравнив обе таблицы можно сделать вывод: обычным игрокам больше нравятся игры в жанре RPG, а критики лучше оценивают стратегии"
      ]
    },
    {
      "cell_type": "markdown",
      "metadata": {
        "id": "lbUuHW6gKZJ_"
      },
      "source": [
        "Проверим следующие гипотезы: Средние пользовательские рейтинги платформ Xbox One и PC одинаковые; Средние пользовательские рейтинги жанров Action (англ. «действие») и Sports (англ. «виды спорта») разные."
      ]
    },
    {
      "cell_type": "markdown",
      "metadata": {
        "id": "qYwNFwFQKZJ_"
      },
      "source": [
        "Проверим первую гипотезу. Средние пользовательские рейтинги платформ Xbox One и PC одинаковые - нулевая гипотеза. Средние пользовательские рейтинги платформ Xbox One и PC разные - альтернативная гипотеза. Альфа примем равным 1%(0,01)."
      ]
    },
    {
      "cell_type": "code",
      "metadata": {
        "id": "HLz4RqnwKZJ_"
      },
      "source": [
        "xone = data.query('platform == \"XOne\" & user_score>0')['user_score']\n",
        "pc = data.query('platform == \"PC\" & user_score>0')['user_score']\n",
        "\n",
        "alpha = .01\n",
        "\n",
        "results = st.ttest_ind(\n",
        "    xone, \n",
        "    pc, \n",
        "    equal_var=False)\n",
        "\n",
        "print('p-значение:', results.pvalue)\n",
        "\n",
        "if (results.pvalue < alpha):\n",
        "    print(\"Отвергаем нулевую гипотезу\")\n",
        "else:\n",
        "    print(\"Не получилось отвергнуть нулевую гипотезу\")"
      ],
      "execution_count": null,
      "outputs": []
    },
    {
      "cell_type": "markdown",
      "metadata": {
        "id": "mF7Tw3KMKZJ_"
      },
      "source": [
        "Следовательно, средние пользовательские рейтинги платформ Xbox One и PC одинаковые."
      ]
    },
    {
      "cell_type": "markdown",
      "metadata": {
        "id": "3j0Qz97dKZKA"
      },
      "source": [
        "Проверим вторую гипотезу. Средние пользовательские рейтинги жанров Action (англ. «действие») и Sports (англ. «виды спорта») одинаковые - нулевая гипотеза. Средние пользовательские рейтинги жанров Action (англ. «действие») и Sports (англ. «виды спорта») разные - альтернативная гипотеза. Альфа примем равным 1%(0,01)."
      ]
    },
    {
      "cell_type": "code",
      "metadata": {
        "id": "mZRLWc6MKZKA"
      },
      "source": [
        "action = data.query('genre == \"Action\"')['user_score']\n",
        "sports = data.query('genre == \"Sports\"')['user_score']\n",
        "\n",
        "alpha = .01\n",
        "\n",
        "results = st.ttest_ind(\n",
        "    action, \n",
        "    sports, \n",
        "    equal_var=False)\n",
        "\n",
        "print('p-значение:', results.pvalue)\n",
        "\n",
        "if (results.pvalue < alpha):\n",
        "    print(\"Отвергаем нулевую гипотезу\")\n",
        "else:\n",
        "    print(\"Не получилось отвергнуть нулевую гипотезу\")"
      ],
      "execution_count": null,
      "outputs": []
    },
    {
      "cell_type": "markdown",
      "metadata": {
        "id": "oH_uWA_6KZKA"
      },
      "source": [
        "Нулевая гипотеза не подтвердилась. Значит средние пользовательские рейтинги жанров Action и Sports разные."
      ]
    },
    {
      "cell_type": "markdown",
      "metadata": {
        "id": "M7GdbVPYKZKA"
      },
      "source": [
        "Анализ показал, что потенциально успешный продукт должен обладать рядом характеристик:\n",
        "\n",
        "1) Игра должна быть разработана для платформ PS4 или XOne, если речь идет о западном рынке, и — для платформы 3DS, если игру планируется продавать в Японии.\n",
        "\n",
        "2) Жанр: Action или Shooter для Запада, Role-Playing — для Японии.\n",
        "\n",
        "3) Рейтинг ESRB: либо от 17 лет (для Америки и Европы) или от 13 лет (для Японии). Рейтинг от 6 лет и старше также будет хорошим выбором, но тогда набор жанров сужается.\n",
        "\n",
        "Ориентироваться на оценки пользователей нет смысла, на продажи это не оказывает существенного влияния. Однако отзывы критиков не стоит упускать из внимания, их отзывы имеют значение. Стоит также отметить, что если пользовательский рейтинг все-таки будет важен создателям игры, то необходимо знать, что в жанре Sports рейтинг пользователей, как правило, выше, чем в жанре Action."
      ]
    }
  ]
}